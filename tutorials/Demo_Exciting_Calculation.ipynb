{
 "cells": [
  {
   "cell_type": "markdown",
   "id": "082b3481",
   "metadata": {},
   "source": [
    "# Demo Notebook Exciting Calculation\n",
    "\\\n",
    "Show basic use cases of the exciting calculation class defined inside the ExcitingWorkflow package.\\\n",
    "Source code: [Gitlab ExcitingWorkflow](https://git.physik.hu-berlin.de/peschelf/excitingworkflow)\\\n",
    "\\\n",
    "Disclaimer: You need the ```excitingtools/bse_xml_generation_and_parsing``` branch from exciting for this. Will get merged soon. Groundstate only allows toplevel attributes, no subelements. Structure has no LDAplusU, dfthalfparam, shell. XS has only the here shown subelements for BSE. Talk to Fabian for more information, if you need more implemented or want to do it yourself."
   ]
  },
  {
   "cell_type": "code",
   "execution_count": 1,
   "id": "44dccc28",
   "metadata": {},
   "outputs": [],
   "source": [
    "import os\n",
    "import shutil\n",
    "import pathlib\n",
    "\n",
    "from excitingworkflow.src.exciting_slurm_calculation import ExcitingCalculation\n",
    "from excitingtools.input.ground_state import ExcitingGroundStateInput\n",
    "from excitingtools.input.structure import ExcitingStructure\n",
    "from excitingtools.input.xs import ExcitingXSInput\n",
    "from excitingtools.runner import BinaryRunner"
   ]
  },
  {
   "cell_type": "code",
   "execution_count": 2,
   "id": "d479dbae",
   "metadata": {},
   "outputs": [
    {
     "name": "stdout",
     "output_type": "stream",
     "text": [
      "['Demo_Exciting_Calculation.ipynb', '.ipynb_checkpoints']\n"
     ]
    }
   ],
   "source": [
    "os.system('rm -r calculation*')  # pay attention here!!\n",
    "print(os.listdir()) # no calculation directories here"
   ]
  },
  {
   "cell_type": "markdown",
   "id": "c0942a48",
   "metadata": {},
   "source": [
    "### Exciting Groundstate calculation of LiF\n",
    "Define the necessary input objects for an exciting calculation"
   ]
  },
  {
   "cell_type": "code",
   "execution_count": 3,
   "id": "0c46f476",
   "metadata": {},
   "outputs": [],
   "source": [
    "# unit cell lattice of the material\n",
    "lattice = [[0.5, 0.0, 0.0], [0.0, 0.5, 0.0], [0.0, 0.0, 0.5]]\n",
    "\n",
    "# Atoms inside the unit cell: every atom own dictionary with species name and position\n",
    "atoms = [{'species': 'Li', 'position': [0, 0, 0]},\n",
    "         {'species': 'F', 'position': [0.5, 0.5, 0.5]}]\n",
    "\n",
    "# Structure object: pass atoms, lattice, species_path and optional kwargs as dictionary\n",
    "structure = ExcitingStructure(atoms, lattice, './',\n",
    "                              structure_properties={'autormt': True},\n",
    "                              crystal_properties={'scale': 7.608})\n",
    "\n",
    "# Groundstate Object with groundstate attributes\n",
    "groundstate = ExcitingGroundStateInput(ngridk=[4, 4, 4], rgkmax=5.0, gmaxvr=10, nempty=5, do='fromscratch',\n",
    "                                       xctype='GGA_PBE_SOL', lmaxmat=12, lmaxvr=12, lmaxapw=12, epschg=0.1,\n",
    "                                       epsengy=0.1, epspot=0.1)\n",
    "\n",
    "# Exciting runner: pass binary_path, run command (serial or mpi), number of OMP threads, timeout in second\n",
    "runner1 = BinaryRunner('/home/fabi/code/development/exciting/bin/exciting_smp', './', 4, 500)\n",
    "\n",
    "# Exciting calculation: pass name, run directory, structure, groundstate, runner\n",
    "gs_calculation = ExcitingCalculation('test1', 'calculation1', structure,\n",
    "                                     '/home/fabi/code/exciting/species/', groundstate, runner1)"
   ]
  },
  {
   "cell_type": "markdown",
   "id": "c5892eaf",
   "metadata": {},
   "source": [
    "ExcitingCalculation has three main functions to use:\n",
    "1. write_inputs()\n",
    "2. run()\n",
    "3. parse_output()"
   ]
  },
  {
   "cell_type": "code",
   "execution_count": 4,
   "id": "fc66dd13",
   "metadata": {},
   "outputs": [],
   "source": [
    "gs_calculation.write_inputs()"
   ]
  },
  {
   "cell_type": "code",
   "execution_count": 5,
   "id": "cab79a44",
   "metadata": {},
   "outputs": [
    {
     "name": "stdout",
     "output_type": "stream",
     "text": [
      "<?xml version=\"1.0\" ?>\n",
      "<input>\n",
      "\t<title>test1</title>\n",
      "\t<structure speciespath=\"./\" autormt=\"true\">\n",
      "\t\t<crystal scale=\"7.608\">\n",
      "\t\t\t<basevect>0.5 0.0 0.0</basevect>\n",
      "\t\t\t<basevect>0.0 0.5 0.0</basevect>\n",
      "\t\t\t<basevect>0.0 0.0 0.5</basevect>\n",
      "\t\t</crystal>\n",
      "\t\t<species speciesfile=\"F.xml\">\n",
      "\t\t\t<atom coord=\"0.5 0.5 0.5\"> </atom>\n",
      "\t\t</species>\n",
      "\t\t<species speciesfile=\"Li.xml\">\n",
      "\t\t\t<atom coord=\"0 0 0\"> </atom>\n",
      "\t\t</species>\n",
      "\t</structure>\n",
      "\t<groundstate ngridk=\"4 4 4\" rgkmax=\"5.0\" gmaxvr=\"10\" nempty=\"5\" do=\"fromscratch\" xctype=\"GGA_PBE_SOL\" lmaxmat=\"12\" lmaxvr=\"12\" lmaxapw=\"12\" epschg=\"0.1\" epsengy=\"0.1\" epspot=\"0.1\"> </groundstate>\n",
      "</input>\n",
      "\n",
      "\n"
     ]
    }
   ],
   "source": [
    "with open('calculation1/input.xml', 'r') as fid:\n",
    "    print(fid.read())"
   ]
  },
  {
   "cell_type": "code",
   "execution_count": 6,
   "id": "b9731433",
   "metadata": {},
   "outputs": [],
   "source": [
    "run_result = gs_calculation.run()"
   ]
  },
  {
   "cell_type": "code",
   "execution_count": 7,
   "id": "24f40ec2",
   "metadata": {},
   "outputs": [
    {
     "name": "stdout",
     "output_type": "stream",
     "text": [
      "StdOut: b''\n",
      "StdErr: b''\n",
      "Return Code: 0\n",
      "Process time: 16.10673975944519 in s\n",
      "Success: True\n"
     ]
    }
   ],
   "source": [
    "print('StdOut:', run_result.stdout)\n",
    "print('StdErr:', run_result.stderr)\n",
    "print('Return Code:', run_result.return_code)\n",
    "print('Process time:', run_result.process_time, 'in s')\n",
    "print('Success:', run_result.success)"
   ]
  },
  {
   "cell_type": "code",
   "execution_count": 8,
   "id": "6fc6b99e",
   "metadata": {},
   "outputs": [
    {
     "data": {
      "text/plain": [
       "{'initialization': {'Lattice vectors (cartesian)': ['3.8040000000',\n",
       "   '0.0000000000',\n",
       "   '0.0000000000',\n",
       "   '0.0000000000',\n",
       "   '3.8040000000',\n",
       "   '0.0000000000',\n",
       "   '0.0000000000',\n",
       "   '0.0000000000',\n",
       "   '3.8040000000'],\n",
       "  'Reciprocal lattice vectors (cartesian)': ['1.6517311533',\n",
       "   '0.0000000000',\n",
       "   '0.0000000000',\n",
       "   '0.0000000000',\n",
       "   '1.6517311533',\n",
       "   '0.0000000000',\n",
       "   '0.0000000000',\n",
       "   '0.0000000000',\n",
       "   '1.6517311533'],\n",
       "  'Unit cell volume': '55.0454624640',\n",
       "  'Brillouin zone volume': '4.5062790344',\n",
       "  'Automatic determination of muffin-tin radii': '',\n",
       "  'global rmt scale': '0.9500000000',\n",
       "  'Species': '2 (Li)',\n",
       "  'parameters loaded from': 'Li.xml',\n",
       "  'name': 'lithium',\n",
       "  'nuclear charge': '-3.00000000',\n",
       "  'electronic charge': '3.00000000',\n",
       "  'atomic mass': '12652.66897000',\n",
       "  'muffin-tin radius': '1.37450000',\n",
       "  '# of radial points in muffin-tin': '250',\n",
       "  'atomic positions (lattice)': '',\n",
       "  '1': '0.50000000  0.50000000  0.50000000',\n",
       "  'Total number of atoms per unit cell': '2',\n",
       "  'Spin treatment': 'spin-unpolarised',\n",
       "  'Number of Bravais lattice symmetries': '48',\n",
       "  'Number of crystal symmetries': '48',\n",
       "  'k-point grid': '4    4    4',\n",
       "  'Total number of k-points': '10',\n",
       "  'R^MT_min * |G+k|_max (rgkmax)': '5.00000000',\n",
       "  'Species with R^MT_min': '2 (Li)',\n",
       "  'Maximum |G+k| for APW functions': '3.63768643',\n",
       "  'Maximum |G| for potential and density': '10.00000000',\n",
       "  'G-vector grid sizes': '15    15    15',\n",
       "  'Total number of G-vectors': '925',\n",
       "  'APW functions': '12',\n",
       "  'computing H and O matrix elements': '12',\n",
       "  'potential and density': '12',\n",
       "  'inner part of muffin-tin': '2',\n",
       "  'Total nuclear charge': '-12.00000000',\n",
       "  'Total electronic charge': '12.00000000',\n",
       "  'Total core charge': '2.00000000',\n",
       "  'Total valence charge': '10.00000000',\n",
       "  'Number of empty states': '5',\n",
       "  'Total number of valence states': '11',\n",
       "  'Maximum Hamiltonian size': '63',\n",
       "  'Maximum number of plane-waves': '56',\n",
       "  'Total number of local-orbitals': '7',\n",
       "  'Exchange-correlation type': '22',\n",
       "  'Smearing scheme': 'Gaussian',\n",
       "  'Smearing width': '0.00100000',\n",
       "  'mixing': 'Using multisecant Broyden potential mixing'},\n",
       " 'scl': {'1': {'Total energy': '-108.90080119',\n",
       "   'Fermi energy': '0.42976101',\n",
       "   'Kinetic energy': '107.63471584',\n",
       "   'Coulomb energy': '-204.14165057',\n",
       "   'Exchange energy': '-11.89899247',\n",
       "   'Correlation energy': '-0.49487399',\n",
       "   'DOS at Fermi energy (states/Ha/cell)': '0.00000000',\n",
       "   'Electron charges': '',\n",
       "   'core': '2.00000000',\n",
       "   'core leakage': '0.00000000',\n",
       "   'valence': '10.00000000',\n",
       "   'interstitial': '0.81774029',\n",
       "   'charge in muffin-tin spheres': '',\n",
       "   'atom     1     F': '9.10022510',\n",
       "   'atom     2    Li': '2.08203462',\n",
       "   'total charge in muffin-tins': '11.18225971',\n",
       "   'total charge': '12.00000000',\n",
       "   'Estimated fundamental gap': '0.52128226',\n",
       "   'Wall time (seconds)': '3.64'},\n",
       "  '2': {'Total energy': '-107.83916051',\n",
       "   'Fermi energy': '0.45037378',\n",
       "   'Kinetic energy': '107.87190587',\n",
       "   'Coulomb energy': '-203.40980674',\n",
       "   'Exchange energy': '-11.80515857',\n",
       "   'Correlation energy': '-0.49610107',\n",
       "   'DOS at Fermi energy (states/Ha/cell)': '0.00000000',\n",
       "   'Electron charges': '',\n",
       "   'core': '2.00000000',\n",
       "   'core leakage': '0.00000000',\n",
       "   'valence': '10.00000000',\n",
       "   'interstitial': '0.86919237',\n",
       "   'charge in muffin-tin spheres': '',\n",
       "   'atom     1     F': '9.02962519',\n",
       "   'atom     2    Li': '2.10118244',\n",
       "   'total charge in muffin-tins': '11.13080763',\n",
       "   'total charge': '12.00000000',\n",
       "   'Estimated fundamental gap': '0.46860213',\n",
       "   'Wall time (seconds)': '5.60'},\n",
       "  '3': {'Total energy': '-107.32015597',\n",
       "   'Fermi energy': '0.46020415',\n",
       "   'Kinetic energy': '107.97540839',\n",
       "   'Coulomb energy': '-203.04116906',\n",
       "   'Exchange energy': '-11.75759109',\n",
       "   'Correlation energy': '-0.49680421',\n",
       "   'DOS at Fermi energy (states/Ha/cell)': '0.00000000',\n",
       "   'Electron charges': '',\n",
       "   'core': '2.00000000',\n",
       "   'core leakage': '0.00000000',\n",
       "   'valence': '10.00000000',\n",
       "   'interstitial': '0.89689737',\n",
       "   'charge in muffin-tin spheres': '',\n",
       "   'atom     1     F': '8.99102977',\n",
       "   'atom     2    Li': '2.11207286',\n",
       "   'total charge in muffin-tins': '11.10310263',\n",
       "   'total charge': '12.00000000',\n",
       "   'Estimated fundamental gap': '0.44105137',\n",
       "   'Wall time (seconds)': '7.54'},\n",
       "  '4': {'Total energy': '-109.12534188',\n",
       "   'Fermi energy': '0.42288619',\n",
       "   'Kinetic energy': '107.53574672',\n",
       "   'Coulomb energy': '-204.26332359',\n",
       "   'Exchange energy': '-11.90296589',\n",
       "   'Correlation energy': '-0.49479911',\n",
       "   'DOS at Fermi energy (states/Ha/cell)': '0.00000000',\n",
       "   'Electron charges': '',\n",
       "   'core': '2.00000000',\n",
       "   'core leakage': '0.00000000',\n",
       "   'valence': '10.00000000',\n",
       "   'interstitial': '0.82227032',\n",
       "   'charge in muffin-tin spheres': '',\n",
       "   'atom     1     F': '9.08977409',\n",
       "   'atom     2    Li': '2.08795558',\n",
       "   'total charge in muffin-tins': '11.17772968',\n",
       "   'total charge': '12.00000000',\n",
       "   'Estimated fundamental gap': '0.51110768',\n",
       "   'Wall time (seconds)': '9.53'},\n",
       "  '5': {'Total energy': '-104.50861870',\n",
       "   'Fermi energy': '0.51478224',\n",
       "   'Kinetic energy': '108.47800839',\n",
       "   'Coulomb energy': '-200.97844359',\n",
       "   'Exchange energy': '-11.50670567',\n",
       "   'Correlation energy': '-0.50147783',\n",
       "   'DOS at Fermi energy (states/Ha/cell)': '0.00000000',\n",
       "   'Electron charges': '',\n",
       "   'core': '2.00000000',\n",
       "   'core leakage': '0.00000000',\n",
       "   'valence': '10.00000000',\n",
       "   'interstitial': '1.05288269',\n",
       "   'charge in muffin-tin spheres': '',\n",
       "   'atom     1     F': '8.77458298',\n",
       "   'atom     2    Li': '2.17253433',\n",
       "   'total charge in muffin-tins': '10.94711731',\n",
       "   'total charge': '12.00000000',\n",
       "   'Estimated fundamental gap': '0.30345711',\n",
       "   'Wall time (seconds)': '11.60'},\n",
       "  '6': {'Total energy': '-107.18947947',\n",
       "   'Fermi energy': '0.46173514',\n",
       "   'Kinetic energy': '107.97185546',\n",
       "   'Coulomb energy': '-202.92539150',\n",
       "   'Exchange energy': '-11.73886127',\n",
       "   'Correlation energy': '-0.49708216',\n",
       "   'DOS at Fermi energy (states/Ha/cell)': '0.00000000',\n",
       "   'Electron charges': '',\n",
       "   'core': '2.00000000',\n",
       "   'core leakage': '0.00000000',\n",
       "   'valence': '10.00000000',\n",
       "   'interstitial': '0.91009616',\n",
       "   'charge in muffin-tin spheres': '',\n",
       "   'atom     1     F': '8.97079080',\n",
       "   'atom     2    Li': '2.11911304',\n",
       "   'total charge in muffin-tins': '11.08990384',\n",
       "   'total charge': '12.00000000',\n",
       "   'Estimated fundamental gap': '0.42641511',\n",
       "   'Wall time (seconds)': '13.77'},\n",
       "  '7': {'Total energy': '-107.03079614',\n",
       "   'Fermi energy': '0.46444306',\n",
       "   'Kinetic energy': '108.00132326',\n",
       "   'Coulomb energy': '-202.81069476',\n",
       "   'Exchange energy': '-11.72409455',\n",
       "   'Correlation energy': '-0.49733009',\n",
       "   'DOS at Fermi energy (states/Ha/cell)': '0.00000000',\n",
       "   'Electron charges': '',\n",
       "   'core': '2.00000000',\n",
       "   'core leakage': '0.00000000',\n",
       "   'valence': '10.00000000',\n",
       "   'interstitial': '0.91909955',\n",
       "   'charge in muffin-tin spheres': '',\n",
       "   'atom     1     F': '8.95839196',\n",
       "   'atom     2    Li': '2.12250849',\n",
       "   'total charge in muffin-tins': '11.08090045',\n",
       "   'total charge': '12.00000000',\n",
       "   'Estimated fundamental gap': '0.41787848',\n",
       "   'Wall time (seconds)': '15.95'},\n",
       "  '8': {'Total energy': '-107.05535945',\n",
       "   'Fermi energy': '0.46390389',\n",
       "   'Kinetic energy': '107.99572068',\n",
       "   'Coulomb energy': '-202.82755009',\n",
       "   'Exchange energy': '-11.72623493',\n",
       "   'Correlation energy': '-0.49729512',\n",
       "   'DOS at Fermi energy (states/Ha/cell)': '0.00000000',\n",
       "   'Electron charges': '',\n",
       "   'core': '2.00000000',\n",
       "   'core leakage': '0.00000000',\n",
       "   'valence': '10.00000000',\n",
       "   'interstitial': '0.91782230',\n",
       "   'charge in muffin-tin spheres': '',\n",
       "   'atom     1     F': '8.96017966',\n",
       "   'atom     2    Li': '2.12199804',\n",
       "   'total charge in muffin-tins': '11.08217770',\n",
       "   'total charge': '12.00000000',\n",
       "   'Estimated fundamental gap': '0.41910169',\n",
       "   'Wall time (seconds)': '18.19'},\n",
       "  '9': {'Total energy': '-107.06307704',\n",
       "   'Fermi energy': '0.46371028',\n",
       "   'Kinetic energy': '107.99379303',\n",
       "   'Coulomb energy': '-202.83278735',\n",
       "   'Exchange energy': '-11.72679574',\n",
       "   'Correlation energy': '-0.49728698',\n",
       "   'DOS at Fermi energy (states/Ha/cell)': '0.00000000',\n",
       "   'Electron charges': '',\n",
       "   'core': '2.00000000',\n",
       "   'core leakage': '0.00000000',\n",
       "   'valence': '10.00000000',\n",
       "   'interstitial': '0.91755708',\n",
       "   'charge in muffin-tin spheres': '',\n",
       "   'atom     1     F': '8.96052859',\n",
       "   'atom     2    Li': '2.12191433',\n",
       "   'total charge in muffin-tins': '11.08244292',\n",
       "   'total charge': '12.00000000',\n",
       "   'Estimated fundamental gap': '0.41931835',\n",
       "   'Wall time (seconds)': '20.25'}},\n",
       " 'TOTENERGY': array([-108.90080119, -107.83916051, -107.32015597, -109.12534188,\n",
       "        -104.5086187 , -107.18947947, -107.03079614, -107.05535944,\n",
       "        -107.0627157 , -107.06307704])}"
      ]
     },
     "execution_count": 8,
     "metadata": {},
     "output_type": "execute_result"
    }
   ],
   "source": [
    "result = gs_calculation.parse_output()\n",
    "result"
   ]
  },
  {
   "cell_type": "markdown",
   "id": "74e4ae2c",
   "metadata": {},
   "source": [
    "Note: For the moment, only the `INFO.OUT` and `TOTENERGY.OUT` gets parsed. Extension is really easy (can be done by you or me, just ask me, any feedback is welcome)"
   ]
  },
  {
   "cell_type": "code",
   "execution_count": 9,
   "id": "cfeff7a7",
   "metadata": {},
   "outputs": [
    {
     "data": {
      "text/plain": [
       "'1.37450000'"
      ]
     },
     "execution_count": 9,
     "metadata": {},
     "output_type": "execute_result"
    }
   ],
   "source": [
    "result['initialization']['muffin-tin radius']"
   ]
  },
  {
   "cell_type": "markdown",
   "id": "cc9308b8",
   "metadata": {},
   "source": [
    "### Exciting BSE calculation of LiF"
   ]
  },
  {
   "cell_type": "code",
   "execution_count": 10,
   "id": "0e8b9e80",
   "metadata": {},
   "outputs": [],
   "source": [
    "lattice = [[0.5, 0.0, 0.0], [0.0, 0.5, 0.0], [0.0, 0.0, 0.5]]\n",
    "atoms = [{'species': 'Li', 'position': [0, 0, 0]},\n",
    "         {'species': 'F', 'position': [0.5, 0.5, 0.5]}]\n",
    "structure = ExcitingStructure(atoms, lattice, './',\n",
    "                              structure_properties={'autormt': True},\n",
    "                              crystal_properties={'scale': 7.608})\n",
    "groundstate = ExcitingGroundStateInput(ngridk=[4, 4, 4], rgkmax=5.0, gmaxvr=10, nempty=5, do='fromscratch',\n",
    "                                       xctype='GGA_PBE_SOL', lmaxmat=12, lmaxvr=12, lmaxapw=12, epschg=0.1,\n",
    "                                       epsengy=0.1, epspot=0.1)\n",
    "\n",
    "# XS part definition:\n",
    "# the attributes of the xs element:\n",
    "xs_attributes = {'broad': 0.327, 'ngridk': [1, 1, 1], 'nempty': 5, 'ngridq': [1, 1, 1], 'gqmax': 2.5,\n",
    "                 'tappinfo': True, 'tevout': True, 'vkloff': [0.05, 0.03, 0.13]}\n",
    "\n",
    "# define the necessary sub element trees for BSE calculation\n",
    "bse_attributes = {'bsetype': 'IP', 'xas': True, 'nstlxas': [1, 5], 'xasatom': 1, 'xasedge': 'K',\n",
    "                  'xasspecies': '1'}\n",
    "energywindow_attributes = {'intv': [50, 80], 'points': 100}\n",
    "screening_attributes = {'screentype': 'full', 'nempty': 5}\n",
    "# plan_input = ['xsgeneigvec', 'writepmatxs', 'scrgeneigvec', 'scrwritepmat', 'screen', 'scrcoulint', 'exccoulint',\n",
    "#              'bse']\n",
    "plan_input = ['xsgeneigvec', 'writepmatxs', 'bse']\n",
    "qpointset_input = [[0, 0, 0]]\n",
    "\n",
    "# compose the XS object with xstype and the attributes\n",
    "xs = ExcitingXSInput(\"BSE\", xs=xs_attributes,\n",
    "                     BSE=bse_attributes,\n",
    "                     energywindow=energywindow_attributes,\n",
    "                     screening=screening_attributes,\n",
    "                     qpointset=qpointset_input,\n",
    "                     plan=plan_input)\n",
    "\n",
    "runner1 = BinaryRunner('/home/fabi/code/development/exciting/bin/exciting_smp', './', 4, 500)\n",
    "\n",
    "# BSE calculation, pass xs as last parameter\n",
    "bse_calculation = ExcitingCalculation('test2', 'calculation2', structure,\n",
    "                                      '/home/fabi/code/exciting/species/', groundstate, runner1, xs)"
   ]
  },
  {
   "cell_type": "markdown",
   "id": "5bd17b3b",
   "metadata": {},
   "source": [
    "Modify only one input argument:"
   ]
  },
  {
   "cell_type": "code",
   "execution_count": 11,
   "id": "b686bf86",
   "metadata": {},
   "outputs": [],
   "source": [
    "bse_calculation.xs.energywindow.attributes['points'] = '200'  # has to be passed as str"
   ]
  },
  {
   "cell_type": "code",
   "execution_count": 12,
   "id": "053d4d87",
   "metadata": {
    "scrolled": false
   },
   "outputs": [
    {
     "name": "stdout",
     "output_type": "stream",
     "text": [
      "<?xml version=\"1.0\" ?>\n",
      "<input>\n",
      "\t<title>test2</title>\n",
      "\t<structure speciespath=\"./\" autormt=\"true\">\n",
      "\t\t<crystal scale=\"7.608\">\n",
      "\t\t\t<basevect>0.5 0.0 0.0</basevect>\n",
      "\t\t\t<basevect>0.0 0.5 0.0</basevect>\n",
      "\t\t\t<basevect>0.0 0.0 0.5</basevect>\n",
      "\t\t</crystal>\n",
      "\t\t<species speciesfile=\"F.xml\">\n",
      "\t\t\t<atom coord=\"0.5 0.5 0.5\"> </atom>\n",
      "\t\t</species>\n",
      "\t\t<species speciesfile=\"Li.xml\">\n",
      "\t\t\t<atom coord=\"0 0 0\"> </atom>\n",
      "\t\t</species>\n",
      "\t</structure>\n",
      "\t<groundstate ngridk=\"4 4 4\" rgkmax=\"5.0\" gmaxvr=\"10\" nempty=\"5\" do=\"fromscratch\" xctype=\"GGA_PBE_SOL\" lmaxmat=\"12\" lmaxvr=\"12\" lmaxapw=\"12\" epschg=\"0.1\" epsengy=\"0.1\" epspot=\"0.1\"> </groundstate>\n",
      "\t<xs xstype=\"BSE\" broad=\"0.327\" ngridk=\"1 1 1\" nempty=\"5\" ngridq=\"1 1 1\" gqmax=\"2.5\" tappinfo=\"true\" tevout=\"true\" vkloff=\"0.05 0.03 0.13\">\n",
      "\t\t<screening screentype=\"full\" nempty=\"5\"> </screening>\n",
      "\t\t<BSE bsetype=\"IP\" xas=\"true\" nstlxas=\"1 5\" xasatom=\"1\" xasedge=\"K\" xasspecies=\"1\"> </BSE>\n",
      "\t\t<energywindow intv=\"50 80\" points=\"200\"> </energywindow>\n",
      "\t\t<qpointset>\n",
      "\t\t\t<qpoint>0 0 0</qpoint>\n",
      "\t\t</qpointset>\n",
      "\t\t<plan>\n",
      "\t\t\t<doonly task=\"xsgeneigvec\"/>\n",
      "\t\t\t<doonly task=\"writepmatxs\"/>\n",
      "\t\t\t<doonly task=\"bse\"/>\n",
      "\t\t</plan>\n",
      "\t</xs>\n",
      "</input>\n",
      "\n",
      "\n"
     ]
    }
   ],
   "source": [
    "bse_calculation.write_inputs()\n",
    "with open('calculation2/input.xml', 'r') as fid:\n",
    "    print(fid.read())"
   ]
  },
  {
   "cell_type": "code",
   "execution_count": 13,
   "id": "d6ea63ec",
   "metadata": {
    "scrolled": true
   },
   "outputs": [
    {
     "name": "stdout",
     "output_type": "stream",
     "text": [
      "StdOut: b'\\rSolving BSE Eigenvalue Problem:                     100.000\\n'\n",
      "StdErr: b''\n",
      "Return Code: 0\n",
      "Process time: 25.226682424545288\n",
      "Success: True\n"
     ]
    }
   ],
   "source": [
    "run_result = bse_calculation.run()\n",
    "print('StdOut:', run_result.stdout)\n",
    "print('StdErr:', run_result.stderr)\n",
    "print('Return Code:', run_result.return_code)\n",
    "print('Process time:', run_result.process_time)\n",
    "print('Success:', run_result.success)"
   ]
  },
  {
   "cell_type": "code",
   "execution_count": 14,
   "id": "0aad5d39",
   "metadata": {
    "scrolled": true
   },
   "outputs": [
    {
     "name": "stdout",
     "output_type": "stream",
     "text": [
      "{'frequency': array([1360.569193  , 1364.65090058, 1368.73260816, 1372.81431574,\n",
      "       1376.89602332, 1380.97773089, 1385.05943847, 1389.14114605,\n",
      "       1393.22285363, 1397.30456121, 1401.38626879, 1405.46797637,\n",
      "       1409.54968395, 1413.63139153, 1417.71309911, 1421.79480668,\n",
      "       1425.87651426, 1429.95822184, 1434.03992942, 1438.121637  ,\n",
      "       1442.20334458, 1446.28505216, 1450.36675974, 1454.44846732,\n",
      "       1458.5301749 , 1462.61188247, 1466.69359005, 1470.77529763,\n",
      "       1474.85700521, 1478.93871279, 1483.02042037, 1487.10212795,\n",
      "       1491.18383553, 1495.26554311, 1499.34725069, 1503.42895826,\n",
      "       1507.51066584, 1511.59237342, 1515.674081  , 1519.75578858,\n",
      "       1523.83749616, 1527.91920374, 1532.00091132, 1536.0826189 ,\n",
      "       1540.16432648, 1544.24603406, 1548.32774163, 1552.40944921,\n",
      "       1556.49115679, 1560.57286437, 1564.65457195, 1568.73627953,\n",
      "       1572.81798711, 1576.89969469, 1580.98140227, 1585.06310985,\n",
      "       1589.14481742, 1593.226525  , 1597.30823258, 1601.38994016,\n",
      "       1605.47164774, 1609.55335532, 1613.6350629 , 1617.71677048,\n",
      "       1621.79847806, 1625.88018564, 1629.96189321, 1634.04360079,\n",
      "       1638.12530837, 1642.20701595, 1646.28872353, 1650.37043111,\n",
      "       1654.45213869, 1658.53384627, 1662.61555385, 1666.69726143,\n",
      "       1670.778969  , 1674.86067658, 1678.94238416, 1683.02409174,\n",
      "       1687.10579932, 1691.1875069 , 1695.26921448, 1699.35092206,\n",
      "       1703.43262964, 1707.51433722, 1711.59604479, 1715.67775237,\n",
      "       1719.75945995, 1723.84116753, 1727.92287511, 1732.00458269,\n",
      "       1736.08629027, 1740.16799785, 1744.24970543, 1748.33141301,\n",
      "       1752.41312058, 1756.49482816, 1760.57653574, 1764.65824332,\n",
      "       1768.7399509 , 1772.82165848, 1776.90336606, 1780.98507364,\n",
      "       1785.06678122, 1789.1484888 , 1793.23019637, 1797.31190395,\n",
      "       1801.39361153, 1805.47531911, 1809.55702669, 1813.63873427,\n",
      "       1817.72044185, 1821.80214943, 1825.88385701, 1829.96556459,\n",
      "       1834.04727216, 1838.12897974, 1842.21068732, 1846.2923949 ,\n",
      "       1850.37410248, 1854.45581006, 1858.53751764, 1862.61922522,\n",
      "       1866.7009328 , 1870.78264038, 1874.86434795, 1878.94605553,\n",
      "       1883.02776311, 1887.10947069, 1891.19117827, 1895.27288585,\n",
      "       1899.35459343, 1903.43630101, 1907.51800859, 1911.59971617,\n",
      "       1915.68142374, 1919.76313132, 1923.8448389 , 1927.92654648,\n",
      "       1932.00825406, 1936.08996164, 1940.17166922, 1944.2533768 ,\n",
      "       1948.33508438, 1952.41679196, 1956.49849953, 1960.58020711,\n",
      "       1964.66191469, 1968.74362227, 1972.82532985, 1976.90703743,\n",
      "       1980.98874501, 1985.07045259, 1989.15216017, 1993.23386774,\n",
      "       1997.31557532, 2001.3972829 , 2005.47899048, 2009.56069806,\n",
      "       2013.64240564, 2017.72411322, 2021.8058208 , 2025.88752838,\n",
      "       2029.96923596, 2034.05094353, 2038.13265111, 2042.21435869,\n",
      "       2046.29606627, 2050.37777385, 2054.45948143, 2058.54118901,\n",
      "       2062.62289659, 2066.70460417, 2070.78631175, 2074.86801933,\n",
      "       2078.9497269 , 2083.03143448, 2087.11314206, 2091.19484964,\n",
      "       2095.27655722, 2099.3582648 , 2103.43997238, 2107.52167996,\n",
      "       2111.60338754, 2115.68509511, 2119.76680269, 2123.84851027,\n",
      "       2127.93021785, 2132.01192543, 2136.09363301, 2140.17534059,\n",
      "       2144.25704817, 2148.33875575, 2152.42046333, 2156.50217091,\n",
      "       2160.58387848, 2164.66558606, 2168.74729364, 2172.82900122]), 'real_oscillator_strength': array([0.99999113, 0.9999912 , 0.99999127, 0.99999134, 0.99999141,\n",
      "       0.99999147, 0.99999154, 0.9999916 , 0.99999167, 0.99999173,\n",
      "       0.99999179, 0.99999186, 0.99999192, 0.99999198, 0.99999204,\n",
      "       0.9999921 , 0.99999215, 0.99999221, 0.99999227, 0.99999233,\n",
      "       0.99999238, 0.99999244, 0.99999249, 0.99999254, 0.9999926 ,\n",
      "       0.99999265, 0.9999927 , 0.99999275, 0.9999928 , 0.99999285,\n",
      "       0.9999929 , 0.99999295, 0.999993  , 0.99999305, 0.9999931 ,\n",
      "       0.99999314, 0.99999319, 0.99999324, 0.99999328, 0.99999333,\n",
      "       0.99999337, 0.99999342, 0.99999346, 0.9999935 , 0.99999354,\n",
      "       0.99999359, 0.99999363, 0.99999367, 0.99999371, 0.99999375,\n",
      "       0.99999379, 0.99999383, 0.99999387, 0.99999391, 0.99999395,\n",
      "       0.99999399, 0.99999402, 0.99999406, 0.9999941 , 0.99999413,\n",
      "       0.99999417, 0.99999421, 0.99999424, 0.99999428, 0.99999431,\n",
      "       0.99999435, 0.99999438, 0.99999441, 0.99999445, 0.99999448,\n",
      "       0.99999451, 0.99999455, 0.99999458, 0.99999461, 0.99999464,\n",
      "       0.99999467, 0.9999947 , 0.99999474, 0.99999477, 0.9999948 ,\n",
      "       0.99999483, 0.99999486, 0.99999489, 0.99999491, 0.99999494,\n",
      "       0.99999497, 0.999995  , 0.99999503, 0.99999506, 0.99999508,\n",
      "       0.99999511, 0.99999514, 0.99999517, 0.99999519, 0.99999522,\n",
      "       0.99999525, 0.99999527, 0.9999953 , 0.99999532, 0.99999535,\n",
      "       0.99999537, 0.9999954 , 0.99999542, 0.99999545, 0.99999547,\n",
      "       0.9999955 , 0.99999552, 0.99999554, 0.99999557, 0.99999559,\n",
      "       0.99999561, 0.99999564, 0.99999566, 0.99999568, 0.9999957 ,\n",
      "       0.99999573, 0.99999575, 0.99999577, 0.99999579, 0.99999581,\n",
      "       0.99999583, 0.99999586, 0.99999588, 0.9999959 , 0.99999592,\n",
      "       0.99999594, 0.99999596, 0.99999598, 0.999996  , 0.99999602,\n",
      "       0.99999604, 0.99999606, 0.99999608, 0.9999961 , 0.99999612,\n",
      "       0.99999613, 0.99999615, 0.99999617, 0.99999619, 0.99999621,\n",
      "       0.99999623, 0.99999625, 0.99999626, 0.99999628, 0.9999963 ,\n",
      "       0.99999632, 0.99999633, 0.99999635, 0.99999637, 0.99999639,\n",
      "       0.9999964 , 0.99999642, 0.99999644, 0.99999645, 0.99999647,\n",
      "       0.99999649, 0.9999965 , 0.99999652, 0.99999653, 0.99999655,\n",
      "       0.99999657, 0.99999658, 0.9999966 , 0.99999661, 0.99999663,\n",
      "       0.99999664, 0.99999666, 0.99999667, 0.99999669, 0.9999967 ,\n",
      "       0.99999672, 0.99999673, 0.99999675, 0.99999676, 0.99999677,\n",
      "       0.99999679, 0.9999968 , 0.99999682, 0.99999683, 0.99999684,\n",
      "       0.99999686, 0.99999687, 0.99999689, 0.9999969 , 0.99999691,\n",
      "       0.99999693, 0.99999694, 0.99999695, 0.99999696, 0.99999698,\n",
      "       0.99999699, 0.999997  , 0.99999702, 0.99999703, 0.99999704,\n",
      "       0.99999705, 0.99999707, 0.99999708, 0.99999709, 0.9999971 ]), 'imag_oscillator_strength': array([1.54304575e-07, 1.52323701e-07, 1.50378721e-07, 1.48468790e-07,\n",
      "       1.46593083e-07, 1.44750802e-07, 1.42941171e-07, 1.41163437e-07,\n",
      "       1.39416867e-07, 1.37700750e-07, 1.36014395e-07, 1.34357130e-07,\n",
      "       1.32728301e-07, 1.31127274e-07, 1.29553431e-07, 1.28006171e-07,\n",
      "       1.26484911e-07, 1.24989081e-07, 1.23518129e-07, 1.22071518e-07,\n",
      "       1.20648722e-07, 1.19249232e-07, 1.17872552e-07, 1.16518198e-07,\n",
      "       1.15185700e-07, 1.13874599e-07, 1.12584449e-07, 1.11314815e-07,\n",
      "       1.10065273e-07, 1.08835409e-07, 1.07624821e-07, 1.06433118e-07,\n",
      "       1.05259915e-07, 1.04104840e-07, 1.02967530e-07, 1.01847629e-07,\n",
      "       1.00744792e-07, 9.96586811e-08, 9.85889672e-08, 9.75353289e-08,\n",
      "       9.64974528e-08, 9.54750330e-08, 9.44677708e-08, 9.34753746e-08,\n",
      "       9.24975600e-08, 9.15340490e-08, 9.05845703e-08, 8.96488589e-08,\n",
      "       8.87266560e-08, 8.78177088e-08, 8.69217703e-08, 8.60385992e-08,\n",
      "       8.51679596e-08, 8.43096213e-08, 8.34633590e-08, 8.26289525e-08,\n",
      "       8.18061868e-08, 8.09948514e-08, 8.01947407e-08, 7.94056536e-08,\n",
      "       7.86273935e-08, 7.78597679e-08, 7.71025888e-08, 7.63556722e-08,\n",
      "       7.56188380e-08, 7.48919100e-08, 7.41747160e-08, 7.34670873e-08,\n",
      "       7.27688588e-08, 7.20798690e-08, 7.13999597e-08, 7.07289762e-08,\n",
      "       7.00667670e-08, 6.94131836e-08, 6.87680808e-08, 6.81313163e-08,\n",
      "       6.75027508e-08, 6.68822479e-08, 6.62696738e-08, 6.56648976e-08,\n",
      "       6.50677912e-08, 6.44782287e-08, 6.38960870e-08, 6.33212456e-08,\n",
      "       6.27535861e-08, 6.21929927e-08, 6.16393517e-08, 6.10925518e-08,\n",
      "       6.05524840e-08, 6.00190411e-08, 5.94921182e-08, 5.89716126e-08,\n",
      "       5.84574233e-08, 5.79494513e-08, 5.74475998e-08, 5.69517736e-08,\n",
      "       5.64618792e-08, 5.59778253e-08, 5.54995218e-08, 5.50268809e-08,\n",
      "       5.45598159e-08, 5.40982420e-08, 5.36420761e-08, 5.31912364e-08,\n",
      "       5.27456428e-08, 5.23052165e-08, 5.18698804e-08, 5.14395585e-08,\n",
      "       5.10141765e-08, 5.05936613e-08, 5.01779412e-08, 4.97669457e-08,\n",
      "       4.93606056e-08, 4.89588531e-08, 4.85616214e-08, 4.81688449e-08,\n",
      "       4.77804595e-08, 4.73964017e-08, 4.70166096e-08, 4.66410222e-08,\n",
      "       4.62695795e-08, 4.59022226e-08, 4.55388938e-08, 4.51795361e-08,\n",
      "       4.48240938e-08, 4.44725118e-08, 4.41247364e-08, 4.37807144e-08,\n",
      "       4.34403938e-08, 4.31037233e-08, 4.27706526e-08, 4.24411322e-08,\n",
      "       4.21151134e-08, 4.17925483e-08, 4.14733900e-08, 4.11575922e-08,\n",
      "       4.08451093e-08, 4.05358967e-08, 4.02299103e-08, 3.99271070e-08,\n",
      "       3.96274441e-08, 3.93308799e-08, 3.90373730e-08, 3.87468831e-08,\n",
      "       3.84593704e-08, 3.81747955e-08, 3.78931200e-08, 3.76143059e-08,\n",
      "       3.73383158e-08, 3.70651132e-08, 3.67946617e-08, 3.65269259e-08,\n",
      "       3.62618707e-08, 3.59994616e-08, 3.57396649e-08, 3.54824470e-08,\n",
      "       3.52277752e-08, 3.49756170e-08, 3.47259408e-08, 3.44787150e-08,\n",
      "       3.42339089e-08, 3.39914920e-08, 3.37514346e-08, 3.35137070e-08,\n",
      "       3.32782803e-08, 3.30451260e-08, 3.28142159e-08, 3.25855223e-08,\n",
      "       3.23590180e-08, 3.21346760e-08, 3.19124699e-08, 3.16923737e-08,\n",
      "       3.14743616e-08, 3.12584084e-08, 3.10444891e-08, 3.08325792e-08,\n",
      "       3.06226545e-08, 3.04146912e-08, 3.02086658e-08, 3.00045552e-08,\n",
      "       2.98023365e-08, 2.96019873e-08, 2.94034855e-08, 2.92068092e-08,\n",
      "       2.90119370e-08, 2.88188476e-08, 2.86275202e-08, 2.84379342e-08,\n",
      "       2.82500692e-08, 2.80639054e-08, 2.78794229e-08, 2.76966024e-08,\n",
      "       2.75154246e-08, 2.73358706e-08, 2.71579220e-08, 2.69815602e-08,\n",
      "       2.68067672e-08, 2.66335251e-08, 2.64618163e-08, 2.62916235e-08]), 'real_oscillator_strength_kkt': array([1.00000023, 1.0000002 , 1.00000015, 1.00000014, 1.00000012,\n",
      "       1.00000011, 1.0000001 , 1.00000009, 1.00000008, 1.00000008,\n",
      "       1.00000007, 1.00000006, 1.00000006, 1.00000006, 1.00000005,\n",
      "       1.00000005, 1.00000004, 1.00000004, 1.00000004, 1.00000003,\n",
      "       1.00000003, 1.00000003, 1.00000003, 1.00000002, 1.00000002,\n",
      "       1.00000002, 1.00000002, 1.00000002, 1.00000002, 1.00000001,\n",
      "       1.00000001, 1.00000001, 1.00000001, 1.00000001, 1.00000001,\n",
      "       1.        , 1.        , 1.        , 1.        , 1.        ,\n",
      "       1.        , 1.        , 1.        , 1.        , 1.        ,\n",
      "       0.99999999, 0.99999999, 0.99999999, 0.99999999, 0.99999999,\n",
      "       0.99999999, 0.99999999, 0.99999999, 0.99999999, 0.99999999,\n",
      "       0.99999999, 0.99999999, 0.99999999, 0.99999999, 0.99999998,\n",
      "       0.99999998, 0.99999998, 0.99999998, 0.99999998, 0.99999998,\n",
      "       0.99999998, 0.99999998, 0.99999998, 0.99999998, 0.99999998,\n",
      "       0.99999998, 0.99999998, 0.99999998, 0.99999998, 0.99999998,\n",
      "       0.99999998, 0.99999998, 0.99999998, 0.99999998, 0.99999998,\n",
      "       0.99999998, 0.99999998, 0.99999998, 0.99999998, 0.99999998,\n",
      "       0.99999998, 0.99999997, 0.99999997, 0.99999997, 0.99999997,\n",
      "       0.99999997, 0.99999997, 0.99999997, 0.99999997, 0.99999997,\n",
      "       0.99999997, 0.99999997, 0.99999997, 0.99999997, 0.99999997,\n",
      "       0.99999997, 0.99999997, 0.99999997, 0.99999997, 0.99999997,\n",
      "       0.99999997, 0.99999997, 0.99999997, 0.99999997, 0.99999997,\n",
      "       0.99999997, 0.99999997, 0.99999997, 0.99999997, 0.99999997,\n",
      "       0.99999997, 0.99999997, 0.99999997, 0.99999997, 0.99999997,\n",
      "       0.99999997, 0.99999997, 0.99999997, 0.99999997, 0.99999997,\n",
      "       0.99999997, 0.99999997, 0.99999997, 0.99999997, 0.99999997,\n",
      "       0.99999997, 0.99999997, 0.99999997, 0.99999997, 0.99999997,\n",
      "       0.99999997, 0.99999997, 0.99999997, 0.99999997, 0.99999997,\n",
      "       0.99999997, 0.99999997, 0.99999997, 0.99999997, 0.99999997,\n",
      "       0.99999997, 0.99999997, 0.99999997, 0.99999997, 0.99999997,\n",
      "       0.99999997, 0.99999997, 0.99999997, 0.99999997, 0.99999997,\n",
      "       0.99999997, 0.99999997, 0.99999997, 0.99999997, 0.99999997,\n",
      "       0.99999997, 0.99999997, 0.99999996, 0.99999996, 0.99999996,\n",
      "       0.99999996, 0.99999996, 0.99999996, 0.99999996, 0.99999996,\n",
      "       0.99999996, 0.99999996, 0.99999996, 0.99999996, 0.99999996,\n",
      "       0.99999996, 0.99999996, 0.99999996, 0.99999996, 0.99999996,\n",
      "       0.99999996, 0.99999996, 0.99999996, 0.99999996, 0.99999996,\n",
      "       0.99999996, 0.99999996, 0.99999996, 0.99999996, 0.99999996,\n",
      "       0.99999996, 0.99999996, 0.99999995, 0.99999995, 0.99999995,\n",
      "       0.99999995, 0.99999995, 0.99999995, 0.99999994, 0.99999993])}\n"
     ]
    }
   ],
   "source": [
    "result_2 = bse_calculation.parse_output()\n",
    "print(result_2)"
   ]
  },
  {
   "cell_type": "markdown",
   "id": "38fbf70f",
   "metadata": {},
   "source": [
    "### Exciting BSE calculation on top of groundstate Calculation"
   ]
  },
  {
   "cell_type": "code",
   "execution_count": 15,
   "id": "b076efad",
   "metadata": {},
   "outputs": [],
   "source": [
    "xs_attributes = {'broad': 0.327, 'ngridk': [1, 1, 1], 'nempty': 5, 'ngridq': [1, 1, 1], 'gqmax': 2.5,\n",
    "                     'tappinfo': True, 'tevout': True, 'vkloff': [0.05, 0.03, 0.13]}\n",
    "bse_attributes = {'bsetype': 'IP', 'xas': True, 'nstlxas': [1, 5], 'xasatom': 1, 'xasedge': 'K',\n",
    "                  'xasspecies': '1'}\n",
    "energywindow_attributes = {'intv': [50, 80], 'points': 100}\n",
    "screening_attributes = {'screentype': 'full', 'nempty': 5}\n",
    "plan_input = ['xsgeneigvec', 'writepmatxs', 'bse']\n",
    "qpointset_input = [[0, 0, 0]]\n",
    "xs = ExcitingXSInput(\"BSE\", xs=xs_attributes,\n",
    "                     BSE=bse_attributes,\n",
    "                     energywindow=energywindow_attributes,\n",
    "                     screening=screening_attributes,\n",
    "                     qpointset=qpointset_input,\n",
    "                     plan=plan_input)\n",
    "\n",
    "runner1 = BinaryRunner('/home/fabi/code/development/exciting/bin/exciting_smp', './', 4, 500)\n",
    "\n",
    "pure_bse_calculation = ExcitingCalculation('test3', 'calculation3', 'calculation1', 'calculation1',\n",
    "                                           'calculation1', runner1, xs)"
   ]
  },
  {
   "cell_type": "code",
   "execution_count": 16,
   "id": "31d370cc",
   "metadata": {},
   "outputs": [
    {
     "name": "stdout",
     "output_type": "stream",
     "text": [
      "<?xml version=\"1.0\" ?>\n",
      "<input>\n",
      "\t<title>test3</title>\n",
      "\t<structure speciespath=\"./\" autormt=\"true\">\n",
      "\t\t<crystal scale=\"7.608\">\n",
      "\t\t\t<basevect>0.5 0.0 0.0</basevect>\n",
      "\t\t\t<basevect>0.0 0.5 0.0</basevect>\n",
      "\t\t\t<basevect>0.0 0.0 0.5</basevect>\n",
      "\t\t</crystal>\n",
      "\t\t<species speciesfile=\"F.xml\">\n",
      "\t\t\t<atom coord=\"0.5 0.5 0.5\"> </atom>\n",
      "\t\t</species>\n",
      "\t\t<species speciesfile=\"Li.xml\">\n",
      "\t\t\t<atom coord=\"0.0 0.0 0.0\"> </atom>\n",
      "\t\t</species>\n",
      "\t</structure>\n",
      "\t<groundstate ngridk=\"4 4 4\" rgkmax=\"5.0\" gmaxvr=\"10\" nempty=\"5\" do=\"skip\" xctype=\"GGA_PBE_SOL\" lmaxmat=\"12\" lmaxvr=\"12\" lmaxapw=\"12\" epschg=\"0.1\" epsengy=\"0.1\" epspot=\"0.1\"> </groundstate>\n",
      "\t<xs xstype=\"BSE\" broad=\"0.327\" ngridk=\"1 1 1\" nempty=\"5\" ngridq=\"1 1 1\" gqmax=\"2.5\" tappinfo=\"true\" tevout=\"true\" vkloff=\"0.05 0.03 0.13\">\n",
      "\t\t<screening screentype=\"full\" nempty=\"5\"> </screening>\n",
      "\t\t<BSE bsetype=\"IP\" xas=\"true\" nstlxas=\"1 5\" xasatom=\"1\" xasedge=\"K\" xasspecies=\"1\"> </BSE>\n",
      "\t\t<energywindow intv=\"50 80\" points=\"100\"> </energywindow>\n",
      "\t\t<qpointset>\n",
      "\t\t\t<qpoint>0 0 0</qpoint>\n",
      "\t\t</qpointset>\n",
      "\t\t<plan>\n",
      "\t\t\t<doonly task=\"xsgeneigvec\"/>\n",
      "\t\t\t<doonly task=\"writepmatxs\"/>\n",
      "\t\t\t<doonly task=\"bse\"/>\n",
      "\t\t</plan>\n",
      "\t</xs>\n",
      "</input>\n",
      "\n",
      "\n"
     ]
    }
   ],
   "source": [
    "pure_bse_calculation.write_inputs()\n",
    "with open('calculation3/input.xml', 'r') as fid:\n",
    "    print(fid.read())"
   ]
  },
  {
   "cell_type": "code",
   "execution_count": 17,
   "id": "377321bd",
   "metadata": {},
   "outputs": [
    {
     "data": {
      "text/plain": [
       "['EFERMI.OUT', 'Li.xml', 'STATE.OUT', 'input.xml', 'F.xml']"
      ]
     },
     "execution_count": 17,
     "metadata": {},
     "output_type": "execute_result"
    }
   ],
   "source": [
    "os.listdir('calculation3')"
   ]
  },
  {
   "cell_type": "code",
   "execution_count": 18,
   "id": "26c4363e",
   "metadata": {},
   "outputs": [
    {
     "name": "stdout",
     "output_type": "stream",
     "text": [
      "StdOut: b'\\rSolving BSE Eigenvalue Problem:                     100.000\\n'\n",
      "StdErr: b''\n",
      "Return Code: 0\n",
      "Process time: 9.866629838943481\n",
      "Success: True\n"
     ]
    }
   ],
   "source": [
    "run_result = pure_bse_calculation.run()\n",
    "print('StdOut:', run_result.stdout)\n",
    "print('StdErr:', run_result.stderr)\n",
    "print('Return Code:', run_result.return_code)\n",
    "print('Process time:', run_result.process_time)\n",
    "print('Success:', run_result.success)"
   ]
  },
  {
   "cell_type": "code",
   "execution_count": 19,
   "id": "fe4daf74",
   "metadata": {
    "scrolled": true
   },
   "outputs": [
    {
     "data": {
      "text/plain": [
       "{'frequency': array([1360.569193  , 1368.73260816, 1376.89602332, 1385.05943847,\n",
       "        1393.22285363, 1401.38626879, 1409.54968395, 1417.71309911,\n",
       "        1425.87651426, 1434.03992942, 1442.20334458, 1450.36675974,\n",
       "        1458.5301749 , 1466.69359005, 1474.85700521, 1483.02042037,\n",
       "        1491.18383553, 1499.34725069, 1507.51066584, 1515.674081  ,\n",
       "        1523.83749616, 1532.00091132, 1540.16432648, 1548.32774163,\n",
       "        1556.49115679, 1564.65457195, 1572.81798711, 1580.98140227,\n",
       "        1589.14481742, 1597.30823258, 1605.47164774, 1613.6350629 ,\n",
       "        1621.79847806, 1629.96189321, 1638.12530837, 1646.28872353,\n",
       "        1654.45213869, 1662.61555385, 1670.778969  , 1678.94238416,\n",
       "        1687.10579932, 1695.26921448, 1703.43262964, 1711.59604479,\n",
       "        1719.75945995, 1727.92287511, 1736.08629027, 1744.24970543,\n",
       "        1752.41312058, 1760.57653574, 1768.7399509 , 1776.90336606,\n",
       "        1785.06678122, 1793.23019637, 1801.39361153, 1809.55702669,\n",
       "        1817.72044185, 1825.88385701, 1834.04727216, 1842.21068732,\n",
       "        1850.37410248, 1858.53751764, 1866.7009328 , 1874.86434795,\n",
       "        1883.02776311, 1891.19117827, 1899.35459343, 1907.51800859,\n",
       "        1915.68142374, 1923.8448389 , 1932.00825406, 1940.17166922,\n",
       "        1948.33508438, 1956.49849953, 1964.66191469, 1972.82532985,\n",
       "        1980.98874501, 1989.15216017, 1997.31557532, 2005.47899048,\n",
       "        2013.64240564, 2021.8058208 , 2029.96923596, 2038.13265111,\n",
       "        2046.29606627, 2054.45948143, 2062.62289659, 2070.78631175,\n",
       "        2078.9497269 , 2087.11314206, 2095.27655722, 2103.43997238,\n",
       "        2111.60338754, 2119.76680269, 2127.93021785, 2136.09363301,\n",
       "        2144.25704817, 2152.42046333, 2160.58387848, 2168.74729364]),\n",
       " 'real_oscillator_strength': array([0.99999113, 0.99999127, 0.99999141, 0.99999154, 0.99999167,\n",
       "        0.99999179, 0.99999192, 0.99999204, 0.99999215, 0.99999227,\n",
       "        0.99999238, 0.99999249, 0.9999926 , 0.9999927 , 0.9999928 ,\n",
       "        0.9999929 , 0.999993  , 0.9999931 , 0.99999319, 0.99999328,\n",
       "        0.99999337, 0.99999346, 0.99999354, 0.99999363, 0.99999371,\n",
       "        0.99999379, 0.99999387, 0.99999395, 0.99999402, 0.9999941 ,\n",
       "        0.99999417, 0.99999424, 0.99999431, 0.99999438, 0.99999445,\n",
       "        0.99999451, 0.99999458, 0.99999464, 0.9999947 , 0.99999477,\n",
       "        0.99999483, 0.99999489, 0.99999494, 0.999995  , 0.99999506,\n",
       "        0.99999511, 0.99999517, 0.99999522, 0.99999527, 0.99999532,\n",
       "        0.99999537, 0.99999542, 0.99999547, 0.99999552, 0.99999557,\n",
       "        0.99999561, 0.99999566, 0.9999957 , 0.99999575, 0.99999579,\n",
       "        0.99999583, 0.99999588, 0.99999592, 0.99999596, 0.999996  ,\n",
       "        0.99999604, 0.99999608, 0.99999612, 0.99999615, 0.99999619,\n",
       "        0.99999623, 0.99999626, 0.9999963 , 0.99999633, 0.99999637,\n",
       "        0.9999964 , 0.99999644, 0.99999647, 0.9999965 , 0.99999653,\n",
       "        0.99999657, 0.9999966 , 0.99999663, 0.99999666, 0.99999669,\n",
       "        0.99999672, 0.99999675, 0.99999677, 0.9999968 , 0.99999683,\n",
       "        0.99999686, 0.99999689, 0.99999691, 0.99999694, 0.99999696,\n",
       "        0.99999699, 0.99999702, 0.99999704, 0.99999707, 0.99999709]),\n",
       " 'imag_oscillator_strength': array([1.54304575e-07, 1.50378721e-07, 1.46593083e-07, 1.42941171e-07,\n",
       "        1.39416867e-07, 1.36014395e-07, 1.32728301e-07, 1.29553431e-07,\n",
       "        1.26484911e-07, 1.23518129e-07, 1.20648722e-07, 1.17872552e-07,\n",
       "        1.15185700e-07, 1.12584449e-07, 1.10065273e-07, 1.07624821e-07,\n",
       "        1.05259915e-07, 1.02967530e-07, 1.00744792e-07, 9.85889672e-08,\n",
       "        9.64974528e-08, 9.44677708e-08, 9.24975600e-08, 9.05845703e-08,\n",
       "        8.87266560e-08, 8.69217703e-08, 8.51679596e-08, 8.34633590e-08,\n",
       "        8.18061868e-08, 8.01947407e-08, 7.86273935e-08, 7.71025888e-08,\n",
       "        7.56188380e-08, 7.41747160e-08, 7.27688588e-08, 7.13999597e-08,\n",
       "        7.00667670e-08, 6.87680808e-08, 6.75027508e-08, 6.62696738e-08,\n",
       "        6.50677912e-08, 6.38960870e-08, 6.27535861e-08, 6.16393517e-08,\n",
       "        6.05524840e-08, 5.94921182e-08, 5.84574233e-08, 5.74475998e-08,\n",
       "        5.64618792e-08, 5.54995218e-08, 5.45598159e-08, 5.36420761e-08,\n",
       "        5.27456428e-08, 5.18698804e-08, 5.10141765e-08, 5.01779412e-08,\n",
       "        4.93606056e-08, 4.85616214e-08, 4.77804595e-08, 4.70166096e-08,\n",
       "        4.62695795e-08, 4.55388938e-08, 4.48240938e-08, 4.41247364e-08,\n",
       "        4.34403938e-08, 4.27706526e-08, 4.21151134e-08, 4.14733900e-08,\n",
       "        4.08451093e-08, 4.02299103e-08, 3.96274441e-08, 3.90373730e-08,\n",
       "        3.84593704e-08, 3.78931200e-08, 3.73383158e-08, 3.67946617e-08,\n",
       "        3.62618707e-08, 3.57396649e-08, 3.52277752e-08, 3.47259408e-08,\n",
       "        3.42339089e-08, 3.37514346e-08, 3.32782803e-08, 3.28142159e-08,\n",
       "        3.23590180e-08, 3.19124699e-08, 3.14743616e-08, 3.10444891e-08,\n",
       "        3.06226545e-08, 3.02086658e-08, 2.98023365e-08, 2.94034855e-08,\n",
       "        2.90119370e-08, 2.86275202e-08, 2.82500692e-08, 2.78794229e-08,\n",
       "        2.75154246e-08, 2.71579220e-08, 2.68067672e-08, 2.64618163e-08]),\n",
       " 'real_oscillator_strength_kkt': array([1.0000002 , 1.00000017, 1.00000012, 1.0000001 , 1.00000008,\n",
       "        1.00000007, 1.00000006, 1.00000005, 1.00000004, 1.00000004,\n",
       "        1.00000003, 1.00000003, 1.00000002, 1.00000002, 1.00000002,\n",
       "        1.00000001, 1.00000001, 1.00000001, 1.        , 1.        ,\n",
       "        1.        , 1.        , 1.        , 0.99999999, 0.99999999,\n",
       "        0.99999999, 0.99999999, 0.99999999, 0.99999999, 0.99999999,\n",
       "        0.99999998, 0.99999998, 0.99999998, 0.99999998, 0.99999998,\n",
       "        0.99999998, 0.99999998, 0.99999998, 0.99999998, 0.99999998,\n",
       "        0.99999998, 0.99999998, 0.99999998, 0.99999997, 0.99999997,\n",
       "        0.99999997, 0.99999997, 0.99999997, 0.99999997, 0.99999997,\n",
       "        0.99999997, 0.99999997, 0.99999997, 0.99999997, 0.99999997,\n",
       "        0.99999997, 0.99999997, 0.99999997, 0.99999997, 0.99999997,\n",
       "        0.99999997, 0.99999997, 0.99999997, 0.99999997, 0.99999997,\n",
       "        0.99999997, 0.99999997, 0.99999997, 0.99999997, 0.99999997,\n",
       "        0.99999997, 0.99999997, 0.99999997, 0.99999997, 0.99999997,\n",
       "        0.99999997, 0.99999997, 0.99999997, 0.99999997, 0.99999997,\n",
       "        0.99999996, 0.99999996, 0.99999996, 0.99999996, 0.99999996,\n",
       "        0.99999996, 0.99999996, 0.99999996, 0.99999996, 0.99999996,\n",
       "        0.99999996, 0.99999996, 0.99999996, 0.99999996, 0.99999996,\n",
       "        0.99999996, 0.99999995, 0.99999995, 0.99999994, 0.99999994])}"
      ]
     },
     "execution_count": 19,
     "metadata": {},
     "output_type": "execute_result"
    }
   ],
   "source": [
    "result_3 = pure_bse_calculation.parse_output()\n",
    "result_3"
   ]
  },
  {
   "cell_type": "code",
   "execution_count": 20,
   "id": "b6d7bf88",
   "metadata": {},
   "outputs": [
    {
     "data": {
      "text/plain": [
       "True"
      ]
     },
     "execution_count": 20,
     "metadata": {},
     "output_type": "execute_result"
    }
   ],
   "source": [
    "result_2['imag_oscillator_strength'].all() == result_3['imag_oscillator_strength'].all()"
   ]
  },
  {
   "cell_type": "markdown",
   "id": "9d34f319",
   "metadata": {},
   "source": [
    "### Using the groundstate calculation object\n",
    "Note: You dont have to specify all objects again, as jupyter stores them"
   ]
  },
  {
   "cell_type": "code",
   "execution_count": 21,
   "id": "cb27db52",
   "metadata": {},
   "outputs": [],
   "source": [
    "pure_bse_calculation2 = ExcitingCalculation('test4', 'calculation4', gs_calculation, gs_calculation, \n",
    "                                            gs_calculation, runner1, xs)"
   ]
  },
  {
   "cell_type": "code",
   "execution_count": 22,
   "id": "8b89ba46",
   "metadata": {},
   "outputs": [
    {
     "name": "stdout",
     "output_type": "stream",
     "text": [
      "<?xml version=\"1.0\" ?>\n",
      "<input>\n",
      "\t<title>test4</title>\n",
      "\t<structure speciespath=\"./\" autormt=\"true\">\n",
      "\t\t<crystal scale=\"7.608\">\n",
      "\t\t\t<basevect>0.5 0.0 0.0</basevect>\n",
      "\t\t\t<basevect>0.0 0.5 0.0</basevect>\n",
      "\t\t\t<basevect>0.0 0.0 0.5</basevect>\n",
      "\t\t</crystal>\n",
      "\t\t<species speciesfile=\"F.xml\">\n",
      "\t\t\t<atom coord=\"0.5 0.5 0.5\"> </atom>\n",
      "\t\t</species>\n",
      "\t\t<species speciesfile=\"Li.xml\">\n",
      "\t\t\t<atom coord=\"0 0 0\"> </atom>\n",
      "\t\t</species>\n",
      "\t</structure>\n",
      "\t<groundstate ngridk=\"4 4 4\" rgkmax=\"5.0\" gmaxvr=\"10\" nempty=\"5\" do=\"skip\" xctype=\"GGA_PBE_SOL\" lmaxmat=\"12\" lmaxvr=\"12\" lmaxapw=\"12\" epschg=\"0.1\" epsengy=\"0.1\" epspot=\"0.1\"> </groundstate>\n",
      "\t<xs xstype=\"BSE\" broad=\"0.327\" ngridk=\"1 1 1\" nempty=\"5\" ngridq=\"1 1 1\" gqmax=\"2.5\" tappinfo=\"true\" tevout=\"true\" vkloff=\"0.05 0.03 0.13\">\n",
      "\t\t<screening screentype=\"full\" nempty=\"5\"> </screening>\n",
      "\t\t<BSE bsetype=\"IP\" xas=\"true\" nstlxas=\"1 5\" xasatom=\"1\" xasedge=\"K\" xasspecies=\"1\"> </BSE>\n",
      "\t\t<energywindow intv=\"50 80\" points=\"100\"> </energywindow>\n",
      "\t\t<qpointset>\n",
      "\t\t\t<qpoint>0 0 0</qpoint>\n",
      "\t\t</qpointset>\n",
      "\t\t<plan>\n",
      "\t\t\t<doonly task=\"xsgeneigvec\"/>\n",
      "\t\t\t<doonly task=\"writepmatxs\"/>\n",
      "\t\t\t<doonly task=\"bse\"/>\n",
      "\t\t</plan>\n",
      "\t</xs>\n",
      "</input>\n",
      "\n",
      "\n"
     ]
    }
   ],
   "source": [
    "pure_bse_calculation2.write_inputs()\n",
    "with open('calculation4/input.xml', 'r') as fid:\n",
    "    print(fid.read())"
   ]
  },
  {
   "cell_type": "code",
   "execution_count": 23,
   "id": "468dc880",
   "metadata": {},
   "outputs": [
    {
     "name": "stdout",
     "output_type": "stream",
     "text": [
      "StdOut: b'\\rSolving BSE Eigenvalue Problem:                     100.000\\n'\n",
      "StdErr: b''\n",
      "Return Code: 0\n",
      "Process time: 9.808221578598022\n",
      "Success: True\n"
     ]
    }
   ],
   "source": [
    "run_result = pure_bse_calculation2.run()\n",
    "print('StdOut:', run_result.stdout)\n",
    "print('StdErr:', run_result.stderr)\n",
    "print('Return Code:', run_result.return_code)\n",
    "print('Process time:', run_result.process_time)\n",
    "print('Success:', run_result.success)"
   ]
  },
  {
   "cell_type": "code",
   "execution_count": 24,
   "id": "48ee24ca",
   "metadata": {
    "scrolled": true
   },
   "outputs": [
    {
     "data": {
      "text/plain": [
       "{'frequency': array([1360.569193  , 1368.73260816, 1376.89602332, 1385.05943847,\n",
       "        1393.22285363, 1401.38626879, 1409.54968395, 1417.71309911,\n",
       "        1425.87651426, 1434.03992942, 1442.20334458, 1450.36675974,\n",
       "        1458.5301749 , 1466.69359005, 1474.85700521, 1483.02042037,\n",
       "        1491.18383553, 1499.34725069, 1507.51066584, 1515.674081  ,\n",
       "        1523.83749616, 1532.00091132, 1540.16432648, 1548.32774163,\n",
       "        1556.49115679, 1564.65457195, 1572.81798711, 1580.98140227,\n",
       "        1589.14481742, 1597.30823258, 1605.47164774, 1613.6350629 ,\n",
       "        1621.79847806, 1629.96189321, 1638.12530837, 1646.28872353,\n",
       "        1654.45213869, 1662.61555385, 1670.778969  , 1678.94238416,\n",
       "        1687.10579932, 1695.26921448, 1703.43262964, 1711.59604479,\n",
       "        1719.75945995, 1727.92287511, 1736.08629027, 1744.24970543,\n",
       "        1752.41312058, 1760.57653574, 1768.7399509 , 1776.90336606,\n",
       "        1785.06678122, 1793.23019637, 1801.39361153, 1809.55702669,\n",
       "        1817.72044185, 1825.88385701, 1834.04727216, 1842.21068732,\n",
       "        1850.37410248, 1858.53751764, 1866.7009328 , 1874.86434795,\n",
       "        1883.02776311, 1891.19117827, 1899.35459343, 1907.51800859,\n",
       "        1915.68142374, 1923.8448389 , 1932.00825406, 1940.17166922,\n",
       "        1948.33508438, 1956.49849953, 1964.66191469, 1972.82532985,\n",
       "        1980.98874501, 1989.15216017, 1997.31557532, 2005.47899048,\n",
       "        2013.64240564, 2021.8058208 , 2029.96923596, 2038.13265111,\n",
       "        2046.29606627, 2054.45948143, 2062.62289659, 2070.78631175,\n",
       "        2078.9497269 , 2087.11314206, 2095.27655722, 2103.43997238,\n",
       "        2111.60338754, 2119.76680269, 2127.93021785, 2136.09363301,\n",
       "        2144.25704817, 2152.42046333, 2160.58387848, 2168.74729364]),\n",
       " 'real_oscillator_strength': array([0.99999113, 0.99999127, 0.99999141, 0.99999154, 0.99999167,\n",
       "        0.99999179, 0.99999192, 0.99999204, 0.99999215, 0.99999227,\n",
       "        0.99999238, 0.99999249, 0.9999926 , 0.9999927 , 0.9999928 ,\n",
       "        0.9999929 , 0.999993  , 0.9999931 , 0.99999319, 0.99999328,\n",
       "        0.99999337, 0.99999346, 0.99999354, 0.99999363, 0.99999371,\n",
       "        0.99999379, 0.99999387, 0.99999395, 0.99999402, 0.9999941 ,\n",
       "        0.99999417, 0.99999424, 0.99999431, 0.99999438, 0.99999445,\n",
       "        0.99999451, 0.99999458, 0.99999464, 0.9999947 , 0.99999477,\n",
       "        0.99999483, 0.99999489, 0.99999494, 0.999995  , 0.99999506,\n",
       "        0.99999511, 0.99999517, 0.99999522, 0.99999527, 0.99999532,\n",
       "        0.99999537, 0.99999542, 0.99999547, 0.99999552, 0.99999557,\n",
       "        0.99999561, 0.99999566, 0.9999957 , 0.99999575, 0.99999579,\n",
       "        0.99999583, 0.99999588, 0.99999592, 0.99999596, 0.999996  ,\n",
       "        0.99999604, 0.99999608, 0.99999612, 0.99999615, 0.99999619,\n",
       "        0.99999623, 0.99999626, 0.9999963 , 0.99999633, 0.99999637,\n",
       "        0.9999964 , 0.99999644, 0.99999647, 0.9999965 , 0.99999653,\n",
       "        0.99999657, 0.9999966 , 0.99999663, 0.99999666, 0.99999669,\n",
       "        0.99999672, 0.99999675, 0.99999677, 0.9999968 , 0.99999683,\n",
       "        0.99999686, 0.99999689, 0.99999691, 0.99999694, 0.99999696,\n",
       "        0.99999699, 0.99999702, 0.99999704, 0.99999707, 0.99999709]),\n",
       " 'imag_oscillator_strength': array([1.54304575e-07, 1.50378721e-07, 1.46593083e-07, 1.42941171e-07,\n",
       "        1.39416867e-07, 1.36014395e-07, 1.32728301e-07, 1.29553431e-07,\n",
       "        1.26484911e-07, 1.23518129e-07, 1.20648722e-07, 1.17872552e-07,\n",
       "        1.15185700e-07, 1.12584449e-07, 1.10065273e-07, 1.07624821e-07,\n",
       "        1.05259915e-07, 1.02967530e-07, 1.00744792e-07, 9.85889672e-08,\n",
       "        9.64974528e-08, 9.44677708e-08, 9.24975600e-08, 9.05845703e-08,\n",
       "        8.87266560e-08, 8.69217703e-08, 8.51679596e-08, 8.34633590e-08,\n",
       "        8.18061868e-08, 8.01947407e-08, 7.86273935e-08, 7.71025888e-08,\n",
       "        7.56188380e-08, 7.41747160e-08, 7.27688588e-08, 7.13999597e-08,\n",
       "        7.00667670e-08, 6.87680808e-08, 6.75027508e-08, 6.62696738e-08,\n",
       "        6.50677912e-08, 6.38960870e-08, 6.27535861e-08, 6.16393517e-08,\n",
       "        6.05524840e-08, 5.94921182e-08, 5.84574233e-08, 5.74475998e-08,\n",
       "        5.64618792e-08, 5.54995218e-08, 5.45598159e-08, 5.36420761e-08,\n",
       "        5.27456428e-08, 5.18698804e-08, 5.10141765e-08, 5.01779412e-08,\n",
       "        4.93606056e-08, 4.85616214e-08, 4.77804595e-08, 4.70166096e-08,\n",
       "        4.62695795e-08, 4.55388938e-08, 4.48240938e-08, 4.41247364e-08,\n",
       "        4.34403938e-08, 4.27706526e-08, 4.21151134e-08, 4.14733900e-08,\n",
       "        4.08451093e-08, 4.02299103e-08, 3.96274441e-08, 3.90373730e-08,\n",
       "        3.84593704e-08, 3.78931200e-08, 3.73383158e-08, 3.67946617e-08,\n",
       "        3.62618707e-08, 3.57396649e-08, 3.52277752e-08, 3.47259408e-08,\n",
       "        3.42339089e-08, 3.37514346e-08, 3.32782803e-08, 3.28142159e-08,\n",
       "        3.23590180e-08, 3.19124699e-08, 3.14743616e-08, 3.10444891e-08,\n",
       "        3.06226545e-08, 3.02086658e-08, 2.98023365e-08, 2.94034855e-08,\n",
       "        2.90119370e-08, 2.86275202e-08, 2.82500692e-08, 2.78794229e-08,\n",
       "        2.75154246e-08, 2.71579220e-08, 2.68067672e-08, 2.64618163e-08]),\n",
       " 'real_oscillator_strength_kkt': array([1.0000002 , 1.00000017, 1.00000012, 1.0000001 , 1.00000008,\n",
       "        1.00000007, 1.00000006, 1.00000005, 1.00000004, 1.00000004,\n",
       "        1.00000003, 1.00000003, 1.00000002, 1.00000002, 1.00000002,\n",
       "        1.00000001, 1.00000001, 1.00000001, 1.        , 1.        ,\n",
       "        1.        , 1.        , 1.        , 0.99999999, 0.99999999,\n",
       "        0.99999999, 0.99999999, 0.99999999, 0.99999999, 0.99999999,\n",
       "        0.99999998, 0.99999998, 0.99999998, 0.99999998, 0.99999998,\n",
       "        0.99999998, 0.99999998, 0.99999998, 0.99999998, 0.99999998,\n",
       "        0.99999998, 0.99999998, 0.99999998, 0.99999997, 0.99999997,\n",
       "        0.99999997, 0.99999997, 0.99999997, 0.99999997, 0.99999997,\n",
       "        0.99999997, 0.99999997, 0.99999997, 0.99999997, 0.99999997,\n",
       "        0.99999997, 0.99999997, 0.99999997, 0.99999997, 0.99999997,\n",
       "        0.99999997, 0.99999997, 0.99999997, 0.99999997, 0.99999997,\n",
       "        0.99999997, 0.99999997, 0.99999997, 0.99999997, 0.99999997,\n",
       "        0.99999997, 0.99999997, 0.99999997, 0.99999997, 0.99999997,\n",
       "        0.99999997, 0.99999997, 0.99999997, 0.99999997, 0.99999997,\n",
       "        0.99999996, 0.99999996, 0.99999996, 0.99999996, 0.99999996,\n",
       "        0.99999996, 0.99999996, 0.99999996, 0.99999996, 0.99999996,\n",
       "        0.99999996, 0.99999996, 0.99999996, 0.99999996, 0.99999996,\n",
       "        0.99999996, 0.99999995, 0.99999995, 0.99999994, 0.99999994])}"
      ]
     },
     "execution_count": 24,
     "metadata": {},
     "output_type": "execute_result"
    }
   ],
   "source": [
    "result_4 = pure_bse_calculation2.parse_output()\n",
    "result_4"
   ]
  },
  {
   "cell_type": "code",
   "execution_count": 25,
   "id": "ad2318e5",
   "metadata": {},
   "outputs": [
    {
     "data": {
      "text/plain": [
       "True"
      ]
     },
     "execution_count": 25,
     "metadata": {},
     "output_type": "execute_result"
    }
   ],
   "source": [
    "result_4['imag_oscillator_strength'].all() == result_3['imag_oscillator_strength'].all()"
   ]
  },
  {
   "cell_type": "markdown",
   "id": "c2793627",
   "metadata": {},
   "source": [
    "### Error:"
   ]
  },
  {
   "cell_type": "code",
   "execution_count": 26,
   "id": "22f8adb5",
   "metadata": {},
   "outputs": [],
   "source": [
    "# Groundstate Object with groundstate attributes\n",
    "groundstate = ExcitingGroundStateInput(ngridk=[4, 4, 4], rgkmax=5.0, gmaxvr=10, nempty=5, do='keks',\n",
    "                                       xctype='GGA_PBE_SOL', lmaxmat=12, lmaxvr=12, lmaxapw=12, epschg=0.1,\n",
    "                                       epsengy=0.1, epspot=0.1)\n",
    "\n",
    "# Exciting calculation: pass name, run directory, structure, groundstate, runner\n",
    "error_calculation = ExcitingCalculation('test5', 'calculation5', structure,\n",
    "                                   '/home/fabi/code/exciting/species/', groundstate, runner1)"
   ]
  },
  {
   "cell_type": "code",
   "execution_count": 27,
   "id": "0a4358fc",
   "metadata": {},
   "outputs": [
    {
     "name": "stdout",
     "output_type": "stream",
     "text": [
      "StdOut: b\" Parser ERROR: 'keks                                                                            ' is not valid selection for do \\n\"\n",
      "StdErr: b''\n",
      "Return Code: 0\n",
      "Process time: 0.0034198760986328125\n",
      "Success: True\n"
     ]
    }
   ],
   "source": [
    "error_calculation.write_inputs()\n",
    "run_result = error_calculation.run()\n",
    "print('StdOut:', run_result.stdout)\n",
    "print('StdErr:', run_result.stderr)\n",
    "print('Return Code:', run_result.return_code)\n",
    "print('Process time:', run_result.process_time)\n",
    "print('Success:', run_result.success)"
   ]
  },
  {
   "cell_type": "markdown",
   "id": "f4f18122",
   "metadata": {},
   "source": [
    "Error handling in exciting not existing... yet!"
   ]
  },
  {
   "cell_type": "markdown",
   "id": "df9a7454",
   "metadata": {},
   "source": [
    "### Parse input.xml and modify just slightly:"
   ]
  },
  {
   "cell_type": "code",
   "execution_count": 28,
   "id": "aed5cc9b",
   "metadata": {},
   "outputs": [],
   "source": [
    "from excitingtools.parser.input_parser import parse_input_xml"
   ]
  },
  {
   "cell_type": "code",
   "execution_count": 29,
   "id": "2445d565",
   "metadata": {},
   "outputs": [
    {
     "data": {
      "text/plain": [
       "{'structure': <excitingtools.input.structure.ExcitingStructure at 0x7f4d380d3a60>,\n",
       " 'ground_state': <excitingtools.input.ground_state.ExcitingGroundStateInput at 0x7f4d63ad80a0>}"
      ]
     },
     "execution_count": 29,
     "metadata": {},
     "output_type": "execute_result"
    }
   ],
   "source": [
    "input_dict = parse_input_xml('calculation1/input.xml')\n",
    "input_dict"
   ]
  },
  {
   "cell_type": "code",
   "execution_count": 30,
   "id": "f24ef820",
   "metadata": {},
   "outputs": [
    {
     "data": {
      "text/plain": [
       "{'ngridk': '4 4 4',\n",
       " 'rgkmax': '5.0',\n",
       " 'gmaxvr': '10',\n",
       " 'nempty': '5',\n",
       " 'do': 'fromscratch',\n",
       " 'xctype': 'GGA_PBE_SOL',\n",
       " 'lmaxmat': '12',\n",
       " 'lmaxvr': '12',\n",
       " 'lmaxapw': '12',\n",
       " 'epschg': '0.1',\n",
       " 'epsengy': '0.1',\n",
       " 'epspot': '0.1'}"
      ]
     },
     "execution_count": 30,
     "metadata": {},
     "output_type": "execute_result"
    }
   ],
   "source": [
    "structure = input_dict['structure']\n",
    "ground_state = input_dict['ground_state']\n",
    "ground_state.attributes"
   ]
  },
  {
   "cell_type": "code",
   "execution_count": 31,
   "id": "48c16327",
   "metadata": {},
   "outputs": [],
   "source": [
    "ground_state.attributes['ngridk'] = '5 5 5'  # as string again"
   ]
  },
  {
   "cell_type": "code",
   "execution_count": 32,
   "id": "dceba41a",
   "metadata": {},
   "outputs": [],
   "source": [
    "new_calculation = ExcitingCalculation('test6', 'calculation6', structure,\n",
    "                                   '/home/fabi/code/exciting/species/', ground_state, runner1)"
   ]
  },
  {
   "cell_type": "code",
   "execution_count": 33,
   "id": "839b6f1c",
   "metadata": {},
   "outputs": [
    {
     "name": "stdout",
     "output_type": "stream",
     "text": [
      "<?xml version=\"1.0\" ?>\n",
      "<input>\n",
      "\t<title>test6</title>\n",
      "\t<structure speciespath=\"./\" autormt=\"true\">\n",
      "\t\t<crystal scale=\"7.608\">\n",
      "\t\t\t<basevect>0.5 0.0 0.0</basevect>\n",
      "\t\t\t<basevect>0.0 0.5 0.0</basevect>\n",
      "\t\t\t<basevect>0.0 0.0 0.5</basevect>\n",
      "\t\t</crystal>\n",
      "\t\t<species speciesfile=\"F.xml\">\n",
      "\t\t\t<atom coord=\"0.5 0.5 0.5\"> </atom>\n",
      "\t\t</species>\n",
      "\t\t<species speciesfile=\"Li.xml\">\n",
      "\t\t\t<atom coord=\"0.0 0.0 0.0\"> </atom>\n",
      "\t\t</species>\n",
      "\t</structure>\n",
      "\t<groundstate ngridk=\"5 5 5\" rgkmax=\"5.0\" gmaxvr=\"10\" nempty=\"5\" do=\"fromscratch\" xctype=\"GGA_PBE_SOL\" lmaxmat=\"12\" lmaxvr=\"12\" lmaxapw=\"12\" epschg=\"0.1\" epsengy=\"0.1\" epspot=\"0.1\"> </groundstate>\n",
      "</input>\n",
      "\n",
      "\n"
     ]
    }
   ],
   "source": [
    "new_calculation.write_inputs()\n",
    "with open('calculation6/input.xml', 'r') as fid:\n",
    "    print(fid.read())"
   ]
  },
  {
   "cell_type": "code",
   "execution_count": 34,
   "id": "6339cc90",
   "metadata": {},
   "outputs": [
    {
     "name": "stdout",
     "output_type": "stream",
     "text": [
      "StdOut: b''\n",
      "StdErr: b''\n",
      "Return Code: 0\n",
      "Process time: 14.942440748214722\n",
      "Success: True\n"
     ]
    }
   ],
   "source": [
    "run_result = new_calculation.run()\n",
    "print('StdOut:', run_result.stdout)\n",
    "print('StdErr:', run_result.stderr)\n",
    "print('Return Code:', run_result.return_code)\n",
    "print('Process time:', run_result.process_time)\n",
    "print('Success:', run_result.success)"
   ]
  },
  {
   "cell_type": "code",
   "execution_count": 35,
   "id": "39c585f1",
   "metadata": {},
   "outputs": [
    {
     "data": {
      "text/plain": [
       "{'initialization': {'Lattice vectors (cartesian)': ['3.8040000000',\n",
       "   '0.0000000000',\n",
       "   '0.0000000000',\n",
       "   '0.0000000000',\n",
       "   '3.8040000000',\n",
       "   '0.0000000000',\n",
       "   '0.0000000000',\n",
       "   '0.0000000000',\n",
       "   '3.8040000000'],\n",
       "  'Reciprocal lattice vectors (cartesian)': ['1.6517311533',\n",
       "   '0.0000000000',\n",
       "   '0.0000000000',\n",
       "   '0.0000000000',\n",
       "   '1.6517311533',\n",
       "   '0.0000000000',\n",
       "   '0.0000000000',\n",
       "   '0.0000000000',\n",
       "   '1.6517311533'],\n",
       "  'Unit cell volume': '55.0454624640',\n",
       "  'Brillouin zone volume': '4.5062790344',\n",
       "  'Automatic determination of muffin-tin radii': '',\n",
       "  'global rmt scale': '0.9500000000',\n",
       "  'Species': '2 (Li)',\n",
       "  'parameters loaded from': 'Li.xml',\n",
       "  'name': 'lithium',\n",
       "  'nuclear charge': '-3.00000000',\n",
       "  'electronic charge': '3.00000000',\n",
       "  'atomic mass': '12652.66897000',\n",
       "  'muffin-tin radius': '1.37450000',\n",
       "  '# of radial points in muffin-tin': '250',\n",
       "  'atomic positions (lattice)': '',\n",
       "  '1': '0.50000000  0.50000000  0.50000000',\n",
       "  'Total number of atoms per unit cell': '2',\n",
       "  'Spin treatment': 'spin-unpolarised',\n",
       "  'Number of Bravais lattice symmetries': '48',\n",
       "  'Number of crystal symmetries': '48',\n",
       "  'k-point grid': '5    5    5',\n",
       "  'Total number of k-points': '10',\n",
       "  'R^MT_min * |G+k|_max (rgkmax)': '5.00000000',\n",
       "  'Species with R^MT_min': '2 (Li)',\n",
       "  'Maximum |G+k| for APW functions': '3.63768643',\n",
       "  'Maximum |G| for potential and density': '10.00000000',\n",
       "  'G-vector grid sizes': '15    15    15',\n",
       "  'Total number of G-vectors': '925',\n",
       "  'APW functions': '12',\n",
       "  'computing H and O matrix elements': '12',\n",
       "  'potential and density': '12',\n",
       "  'inner part of muffin-tin': '2',\n",
       "  'Total nuclear charge': '-12.00000000',\n",
       "  'Total electronic charge': '12.00000000',\n",
       "  'Total core charge': '2.00000000',\n",
       "  'Total valence charge': '10.00000000',\n",
       "  'Number of empty states': '5',\n",
       "  'Total number of valence states': '11',\n",
       "  'Maximum Hamiltonian size': '54',\n",
       "  'Maximum number of plane-waves': '47',\n",
       "  'Total number of local-orbitals': '7',\n",
       "  'Exchange-correlation type': '22',\n",
       "  'Smearing scheme': 'Gaussian',\n",
       "  'Smearing width': '0.00100000',\n",
       "  'mixing': 'Using multisecant Broyden potential mixing'},\n",
       " 'scl': {'1': {'Total energy': '-108.88209273',\n",
       "   'Fermi energy': '0.45342093',\n",
       "   'Kinetic energy': '107.64504938',\n",
       "   'Coulomb energy': '-204.13474855',\n",
       "   'Exchange energy': '-11.89747016',\n",
       "   'Correlation energy': '-0.49492339',\n",
       "   'DOS at Fermi energy (states/Ha/cell)': '0.00000000',\n",
       "   'Electron charges': '',\n",
       "   'core': '2.00000000',\n",
       "   'core leakage': '0.00000000',\n",
       "   'valence': '10.00000000',\n",
       "   'interstitial': '0.81933567',\n",
       "   'charge in muffin-tin spheres': '',\n",
       "   'atom     1     F': '9.09827412',\n",
       "   'atom     2    Li': '2.08239022',\n",
       "   'total charge in muffin-tins': '11.18066433',\n",
       "   'total charge': '12.00000000',\n",
       "   'Estimated fundamental gap': '0.57894146',\n",
       "   'Wall time (seconds)': '3.37'},\n",
       "  '2': {'Total energy': '-107.82497797',\n",
       "   'Fermi energy': '0.47432114',\n",
       "   'Kinetic energy': '107.87845793',\n",
       "   'Coulomb energy': '-203.40366120',\n",
       "   'Exchange energy': '-11.80361591',\n",
       "   'Correlation energy': '-0.49615878',\n",
       "   'DOS at Fermi energy (states/Ha/cell)': '0.00000000',\n",
       "   'Electron charges': '',\n",
       "   'core': '2.00000000',\n",
       "   'core leakage': '0.00000000',\n",
       "   'valence': '10.00000000',\n",
       "   'interstitial': '0.87095383',\n",
       "   'charge in muffin-tin spheres': '',\n",
       "   'atom     1     F': '9.02745574',\n",
       "   'atom     2    Li': '2.10159043',\n",
       "   'total charge in muffin-tins': '11.12904617',\n",
       "   'total charge': '12.00000000',\n",
       "   'Estimated fundamental gap': '0.52849088',\n",
       "   'Wall time (seconds)': '5.29'},\n",
       "  '3': {'Total energy': '-107.31041907',\n",
       "   'Fermi energy': '0.48421805',\n",
       "   'Kinetic energy': '107.97884533',\n",
       "   'Coulomb energy': '-203.03626265',\n",
       "   'Exchange energy': '-11.75613641',\n",
       "   'Correlation energy': '-0.49686534',\n",
       "   'DOS at Fermi energy (states/Ha/cell)': '0.00000000',\n",
       "   'Electron charges': '',\n",
       "   'core': '2.00000000',\n",
       "   'core leakage': '0.00000000',\n",
       "   'valence': '10.00000000',\n",
       "   'interstitial': '0.89869650',\n",
       "   'charge in muffin-tin spheres': '',\n",
       "   'atom     1     F': '8.98881373',\n",
       "   'atom     2    Li': '2.11248977',\n",
       "   'total charge in muffin-tins': '11.10130350',\n",
       "   'total charge': '12.00000000',\n",
       "   'Estimated fundamental gap': '0.50223258',\n",
       "   'Wall time (seconds)': '7.20'},\n",
       "  '4': {'Total energy': '-109.13482132',\n",
       "   'Fermi energy': '0.44537790',\n",
       "   'Kinetic energy': '107.53170359',\n",
       "   'Coulomb energy': '-204.26864986',\n",
       "   'Exchange energy': '-11.90304441',\n",
       "   'Correlation energy': '-0.49483064',\n",
       "   'DOS at Fermi energy (states/Ha/cell)': '0.00000000',\n",
       "   'Electron charges': '',\n",
       "   'core': '2.00000000',\n",
       "   'core leakage': '0.00000000',\n",
       "   'valence': '10.00000000',\n",
       "   'interstitial': '0.82303441',\n",
       "   'charge in muffin-tin spheres': '',\n",
       "   'atom     1     F': '9.08896415',\n",
       "   'atom     2    Li': '2.08800144',\n",
       "   'total charge in muffin-tins': '11.17696559',\n",
       "   'total charge': '12.00000000',\n",
       "   'Estimated fundamental gap': '0.56983270',\n",
       "   'Wall time (seconds)': '9.14'},\n",
       "  '5': {'Total energy': '-104.47976926',\n",
       "   'Fermi energy': '0.54056320',\n",
       "   'Kinetic energy': '108.47710492',\n",
       "   'Coulomb energy': '-200.95295132',\n",
       "   'Exchange energy': '-11.50228185',\n",
       "   'Correlation energy': '-0.50164101',\n",
       "   'DOS at Fermi energy (states/Ha/cell)': '0.00000000',\n",
       "   'Electron charges': '',\n",
       "   'core': '2.00000000',\n",
       "   'core leakage': '0.00000000',\n",
       "   'valence': '10.00000000',\n",
       "   'interstitial': '1.05739425',\n",
       "   'charge in muffin-tin spheres': '',\n",
       "   'atom     1     F': '8.76860895',\n",
       "   'atom     2    Li': '2.17399680',\n",
       "   'total charge in muffin-tins': '10.94260575',\n",
       "   'total charge': '12.00000000',\n",
       "   'Estimated fundamental gap': '0.37066609',\n",
       "   'Wall time (seconds)': '11.07'},\n",
       "  '6': {'Total energy': '-107.18533373',\n",
       "   'Fermi energy': '0.48542977',\n",
       "   'Kinetic energy': '107.96950360',\n",
       "   'Coulomb energy': '-202.92027607',\n",
       "   'Exchange energy': '-11.73741561',\n",
       "   'Correlation energy': '-0.49714566',\n",
       "   'DOS at Fermi energy (states/Ha/cell)': '0.00000000',\n",
       "   'Electron charges': '',\n",
       "   'core': '2.00000000',\n",
       "   'core leakage': '0.00000000',\n",
       "   'valence': '10.00000000',\n",
       "   'interstitial': '0.91189841',\n",
       "   'charge in muffin-tin spheres': '',\n",
       "   'atom     1     F': '8.96858973',\n",
       "   'atom     2    Li': '2.11951186',\n",
       "   'total charge in muffin-tins': '11.08810159',\n",
       "   'total charge': '12.00000000',\n",
       "   'Estimated fundamental gap': '0.48829247',\n",
       "   'Wall time (seconds)': '12.99'},\n",
       "  '7': {'Total energy': '-107.02995794',\n",
       "   'Fermi energy': '0.48815276',\n",
       "   'Kinetic energy': '107.99826363',\n",
       "   'Coulomb energy': '-202.80800330',\n",
       "   'Exchange energy': '-11.72282381',\n",
       "   'Correlation energy': '-0.49739445',\n",
       "   'DOS at Fermi energy (states/Ha/cell)': '0.00000000',\n",
       "   'Electron charges': '',\n",
       "   'core': '2.00000000',\n",
       "   'core leakage': '0.00000000',\n",
       "   'valence': '10.00000000',\n",
       "   'interstitial': '0.92093757',\n",
       "   'charge in muffin-tin spheres': '',\n",
       "   'atom     1     F': '8.95613109',\n",
       "   'atom     2    Li': '2.12293134',\n",
       "   'total charge in muffin-tins': '11.07906243',\n",
       "   'total charge': '12.00000000',\n",
       "   'Estimated fundamental gap': '0.48013909',\n",
       "   'Wall time (seconds)': '14.93'},\n",
       "  '8': {'Total energy': '-107.05397895',\n",
       "   'Fermi energy': '0.48762816',\n",
       "   'Kinetic energy': '107.99299614',\n",
       "   'Coulomb energy': '-202.82466437',\n",
       "   'Exchange energy': '-11.72495134',\n",
       "   'Correlation energy': '-0.49735938',\n",
       "   'DOS at Fermi energy (states/Ha/cell)': '0.00000000',\n",
       "   'Electron charges': '',\n",
       "   'core': '2.00000000',\n",
       "   'core leakage': '0.00000000',\n",
       "   'valence': '10.00000000',\n",
       "   'interstitial': '0.91965796',\n",
       "   'charge in muffin-tin spheres': '',\n",
       "   'atom     1     F': '8.95792170',\n",
       "   'atom     2    Li': '2.12242035',\n",
       "   'total charge in muffin-tins': '11.08034204',\n",
       "   'total charge': '12.00000000',\n",
       "   'Estimated fundamental gap': '0.48130297',\n",
       "   'Wall time (seconds)': '16.85'},\n",
       "  '9': {'Total energy': '-107.06301132',\n",
       "   'Fermi energy': '0.48742425',\n",
       "   'Kinetic energy': '107.99120237',\n",
       "   'Coulomb energy': '-202.83118514',\n",
       "   'Exchange energy': '-11.72567904',\n",
       "   'Correlation energy': '-0.49734951',\n",
       "   'DOS at Fermi energy (states/Ha/cell)': '0.00000000',\n",
       "   'Electron charges': '',\n",
       "   'core': '2.00000000',\n",
       "   'core leakage': '0.00000000',\n",
       "   'valence': '10.00000000',\n",
       "   'interstitial': '0.91932660',\n",
       "   'charge in muffin-tin spheres': '',\n",
       "   'atom     1     F': '8.95837353',\n",
       "   'atom     2    Li': '2.12229987',\n",
       "   'total charge in muffin-tins': '11.08067340',\n",
       "   'total charge': '12.00000000',\n",
       "   'Estimated fundamental gap': '0.48159047',\n",
       "   'Wall time (seconds)': '18.77'}},\n",
       " 'TOTENERGY': array([-108.88209273, -107.82497797, -107.31041907, -109.13482132,\n",
       "        -104.47976926, -107.18533373, -107.02995794, -107.05397895,\n",
       "        -107.06300121, -107.06301132])}"
      ]
     },
     "execution_count": 35,
     "metadata": {},
     "output_type": "execute_result"
    }
   ],
   "source": [
    "result_5 = new_calculation.parse_output()\n",
    "result_5"
   ]
  },
  {
   "cell_type": "code",
   "execution_count": null,
   "id": "9ab92126",
   "metadata": {},
   "outputs": [],
   "source": []
  }
 ],
 "metadata": {
  "kernelspec": {
   "display_name": "exciting-kernel",
   "language": "python",
   "name": "exciting-kernel"
  },
  "language_info": {
   "codemirror_mode": {
    "name": "ipython",
    "version": 3
   },
   "file_extension": ".py",
   "mimetype": "text/x-python",
   "name": "python",
   "nbconvert_exporter": "python",
   "pygments_lexer": "ipython3",
   "version": "3.10.4"
  }
 },
 "nbformat": 4,
 "nbformat_minor": 5
}

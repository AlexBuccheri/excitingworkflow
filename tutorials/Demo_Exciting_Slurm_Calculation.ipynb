{
 "cells": [
  {
   "cell_type": "markdown",
   "id": "082b3481",
   "metadata": {},
   "source": [
    "# Demo Notebook Exciting Slurm Calculation\n",
    "\\\n",
    "Show basic use cases of the exciting calculation class defined inside the ExcitingWorkflow package.\\\n",
    "Source code: [Gitlab ExcitingWorkflow](https://git.physik.hu-berlin.de/peschelf/excitingworkflow)\\\n",
    "\\\n",
    "Run this notebook on dune!"
   ]
  },
  {
   "cell_type": "code",
   "execution_count": 1,
   "id": "44dccc28",
   "metadata": {},
   "outputs": [],
   "source": [
    "import os\n",
    "import shutil\n",
    "\n",
    "from excitingworkflow.src.exciting_slurm_calculation import ExcitingSlurmCalculation\n",
    "from excitingtools.input.ground_state import ExcitingGroundStateInput\n",
    "from excitingtools.input.structure import ExcitingStructure\n",
    "from excitingtools.input.xs import ExcitingXSInput\n",
    "from excitingtools.runner import BinaryRunner\n",
    "from exgw.src.job_schedulers import slurm"
   ]
  },
  {
   "cell_type": "code",
   "execution_count": 2,
   "id": "d479dbae",
   "metadata": {
    "scrolled": true
   },
   "outputs": [
    {
     "name": "stdout",
     "output_type": "stream",
     "text": [
      "['.ipynb_checkpoints', 'Demo_Exciting_Slurm_Calculation.ipynb']\n"
     ]
    }
   ],
   "source": [
    "os.system('rm -r calculation*')  # pay attention here!!\n",
    "print(os.listdir()) # no calculation directories here"
   ]
  },
  {
   "cell_type": "code",
   "execution_count": 3,
   "id": "609e691a",
   "metadata": {},
   "outputs": [
    {
     "name": "stdout",
     "output_type": "stream",
     "text": [
      "           PARTITION AVAIL  TIMELIMIT   NODES(A/I/O/T) NODELIST\n",
      "      cpu16memory128    up 30-00:00:0        35/3/6/44 node[133-176]\n",
      "      cpu32memory512    up 30-00:00:0          0/4/0/4 node[177-180]\n",
      "      cpu36memory192    up 30-00:00:0        4/12/0/16 node[181-196]\n",
      "      cpu36memory384    up 30-00:00:0         9/3/0/12 node[197-208]\n",
      "               debug    up    1:00:00          0/2/0/2 node[109-110]\n",
      "               test*    up 1-00:00:00          0/2/0/2 node[111-112]\n"
     ]
    },
    {
     "data": {
      "text/plain": [
       "0"
      ]
     },
     "execution_count": 3,
     "metadata": {},
     "output_type": "execute_result"
    }
   ],
   "source": [
    "os.system('sinfo')"
   ]
  },
  {
   "cell_type": "markdown",
   "id": "c0942a48",
   "metadata": {},
   "source": [
    "### Exciting Groundstate calculation of LiF\n",
    "Define the necessary input objects for an exciting calculation"
   ]
  },
  {
   "cell_type": "code",
   "execution_count": 4,
   "id": "0c46f476",
   "metadata": {},
   "outputs": [],
   "source": [
    "# unit cell lattice of the material\n",
    "lattice = [[0.5, 0.0, 0.0], [0.0, 0.5, 0.0], [0.0, 0.0, 0.5]]\n",
    "\n",
    "# Atoms inside the unit cell: every atom own dictionary with species name and position\n",
    "atoms = [{'species': 'Li', 'position': [0, 0, 0]},\n",
    "         {'species': 'F', 'position': [0.5, 0.5, 0.5]}]\n",
    "\n",
    "# Structure object: pass atoms, lattice, species_path and optional kwargs as dictionary\n",
    "structure = ExcitingStructure(atoms, lattice, './',\n",
    "                              structure_properties={'autormt': True},\n",
    "                              crystal_properties={'scale': 7.608})\n",
    "\n",
    "# Groundstate Object with groundstate attributes\n",
    "groundstate = ExcitingGroundStateInput(ngridk=[4, 4, 4], rgkmax=5.0, gmaxvr=10, nempty=5, do='fromscratch',\n",
    "                                       xctype='GGA_PBE_SOL', lmaxmat=12, lmaxvr=12, lmaxapw=12, epschg=0.1,\n",
    "                                       epsengy=0.1, epspot=0.1)\n",
    "\n",
    "# define slurm run properties like timeout, partition, number of mpi nodes, ...\n",
    "slurm_directives = slurm.set_slurm_directives(job_name='test1',\n",
    "                                                  time=[0, 0, 5, 0],\n",
    "                                                  partition='debug',\n",
    "                                                  exclusive=True,\n",
    "                                                  nodes=1,\n",
    "                                                  ntasks_per_node=4,\n",
    "                                                  cpus_per_task=4,\n",
    "                                                  hint='nomultithread')\n",
    "\n",
    "# Exciting calculation: pass name, run directory, structure, groundstate, slurm_commands\n",
    "calculation1 = ExcitingSlurmCalculation('test1', 'calculation1', structure,\n",
    "                                        '/mnt/beegfs2018/scratch/peschelf/code/exciting/species/', \n",
    "                                        groundstate, slurm_directives=slurm_directives)"
   ]
  },
  {
   "cell_type": "markdown",
   "id": "c5892eaf",
   "metadata": {},
   "source": [
    "ExcitingCalculation has three main functions to use:\n",
    "1. write_inputs()\n",
    "2. run()\n",
    "3. parse_output()"
   ]
  },
  {
   "cell_type": "code",
   "execution_count": 5,
   "id": "fc66dd13",
   "metadata": {},
   "outputs": [
    {
     "name": "stdout",
     "output_type": "stream",
     "text": [
      "['F.xml', 'Li.xml', 'input.xml', 'submit_run.sh']\n"
     ]
    }
   ],
   "source": [
    "calculation1.write_inputs()\n",
    "print(os.listdir('calculation1'))"
   ]
  },
  {
   "cell_type": "code",
   "execution_count": 6,
   "id": "cab79a44",
   "metadata": {},
   "outputs": [
    {
     "name": "stdout",
     "output_type": "stream",
     "text": [
      "#!/bin/bash \n",
      "\n",
      "#SBATCH --job-name=test1\n",
      "#SBATCH --time=0-00:05:00\n",
      "#SBATCH --partition=debug\n",
      "#SBATCH --nodes=1\n",
      "#SBATCH --ntasks-per-node=4\n",
      "#SBATCH --cpus-per-task=4\n",
      "#SBATCH --hint=nomultithread\n",
      "#SBATCH --exclusive\n",
      "\n",
      "module load intel-oneapi/2021.4.0\n",
      "\n",
      "EXE=/mnt/beegfs2018/scratch/peschelf/code/release/exciting/bin/exciting_mpismp\n",
      "OUT=terminal.out\n",
      "\n",
      "cd ${SLURM_SUBMIT_DIR}\n",
      "export OMP_NUM_THREADS=${SLURM_CPUS_PER_TASK}\n",
      "\n",
      "# $SLURM_NTASKS = n_nodes * ntasks-per-node == total number of MPI processes\n",
      "mpirun -np $SLURM_NTASKS $EXE  > $OUT\n"
     ]
    }
   ],
   "source": [
    "with open('calculation1/submit_run.sh', 'r') as fid:\n",
    "    print(fid.read())"
   ]
  },
  {
   "cell_type": "code",
   "execution_count": 7,
   "id": "b9731433",
   "metadata": {},
   "outputs": [
    {
     "name": "stdout",
     "output_type": "stream",
     "text": [
      "Put calculation into queue, JOBID=8545\n"
     ]
    }
   ],
   "source": [
    "run_result = calculation1.run()"
   ]
  },
  {
   "cell_type": "code",
   "execution_count": 8,
   "id": "24f40ec2",
   "metadata": {},
   "outputs": [
    {
     "name": "stdout",
     "output_type": "stream",
     "text": [
      "StdOut: []\n",
      "StdErr: []\n",
      "Return Code: 0\n",
      "Process time: 31.147587776184082\n",
      "Success: True\n"
     ]
    }
   ],
   "source": [
    "print('StdOut:', run_result.stdout)\n",
    "print('StdErr:', run_result.stderr)\n",
    "print('Return Code:', run_result.return_code)\n",
    "print('Process time:', run_result.process_time)\n",
    "print('Success:', run_result.success)"
   ]
  },
  {
   "cell_type": "code",
   "execution_count": 9,
   "id": "6fc6b99e",
   "metadata": {},
   "outputs": [
    {
     "data": {
      "text/plain": [
       "{'initialization': {'Lattice vectors (cartesian)': ['3.8040000000',\n",
       "   '0.0000000000',\n",
       "   '0.0000000000',\n",
       "   '0.0000000000',\n",
       "   '3.8040000000',\n",
       "   '0.0000000000',\n",
       "   '0.0000000000',\n",
       "   '0.0000000000',\n",
       "   '3.8040000000'],\n",
       "  'Reciprocal lattice vectors (cartesian)': ['1.6517311533',\n",
       "   '0.0000000000',\n",
       "   '0.0000000000',\n",
       "   '0.0000000000',\n",
       "   '1.6517311533',\n",
       "   '0.0000000000',\n",
       "   '0.0000000000',\n",
       "   '0.0000000000',\n",
       "   '1.6517311533'],\n",
       "  'Unit cell volume': '55.0454624640',\n",
       "  'Brillouin zone volume': '4.5062790344',\n",
       "  'Automatic determination of muffin-tin radii': '',\n",
       "  'parameters': '0.2500000000      0.9500000000',\n",
       "  'Species': '2 (Li)',\n",
       "  'parameters loaded from': 'Li.xml',\n",
       "  'name': 'lithium',\n",
       "  'nuclear charge': '-3.00000000',\n",
       "  'electronic charge': '3.00000000',\n",
       "  'atomic mass': '12652.66897000',\n",
       "  'muffin-tin radius': '1.47810000',\n",
       "  '# of radial points in muffin-tin': '250',\n",
       "  'atomic positions (lattice)': '',\n",
       "  '1': '0.50000000  0.50000000  0.50000000',\n",
       "  'Total number of atoms per unit cell': '2',\n",
       "  'Spin treatment': 'spin-unpolarised',\n",
       "  'Number of Bravais lattice symmetries': '48',\n",
       "  'Number of crystal symmetries': '48',\n",
       "  'k-point grid': '4    4    4',\n",
       "  'Total number of k-points': '10',\n",
       "  'R^MT_min * |G+k|_max (rgkmax)': '5.00000000',\n",
       "  'Species with R^MT_min': '2 (Li)',\n",
       "  'Maximum |G+k| for APW functions': '3.38272106',\n",
       "  'Maximum |G| for potential and density': '10.00000000',\n",
       "  'G-vector grid sizes': '15    15    15',\n",
       "  'Total number of G-vectors': '925',\n",
       "  'APW functions': '12',\n",
       "  'computing H and O matrix elements': '12',\n",
       "  'potential and density': '12',\n",
       "  'inner part of muffin-tin': '2',\n",
       "  'Total nuclear charge': '-12.00000000',\n",
       "  'Total electronic charge': '12.00000000',\n",
       "  'Total core charge': '2.00000000',\n",
       "  'Total valence charge': '10.00000000',\n",
       "  'Number of empty states': '5',\n",
       "  'Total number of valence states': '11',\n",
       "  'Maximum Hamiltonian size': '47',\n",
       "  'Maximum number of plane-waves': '40',\n",
       "  'Total number of local-orbitals': '7',\n",
       "  'Exchange-correlation type': '22',\n",
       "  'Smearing scheme': 'Gaussian',\n",
       "  'Smearing width': '0.00100000',\n",
       "  'mixing': 'Using multisecant Broyden potential mixing'},\n",
       " 'scl': {'1': {'Total energy': '-108.75147332',\n",
       "   'Fermi energy': '0.44519956',\n",
       "   'Kinetic energy': '107.75776036',\n",
       "   'Coulomb energy': '-204.12197160',\n",
       "   'Exchange energy': '-11.89214481',\n",
       "   'Correlation energy': '-0.49511727',\n",
       "   'DOS at Fermi energy (states/Ha/cell)': '0.00000000',\n",
       "   'Electron charges': '',\n",
       "   'core': '2.00000000',\n",
       "   'core leakage': '0.00000000',\n",
       "   'valence': '10.00000000',\n",
       "   'interstitial': '0.99852009',\n",
       "   'charge in muffin-tin spheres': '',\n",
       "   'atom     1     F': '8.83247731',\n",
       "   'atom     2    Li': '2.16900260',\n",
       "   'total charge in muffin-tins': '11.00147991',\n",
       "   'total charge': '12.00000000',\n",
       "   'Estimated fundamental gap': '0.51818949',\n",
       "   'Wall time (seconds)': '4.44'},\n",
       "  '2': {'Total energy': '-107.74803581',\n",
       "   'Fermi energy': '0.46343198',\n",
       "   'Kinetic energy': '107.96564916',\n",
       "   'Coulomb energy': '-203.41614014',\n",
       "   'Exchange energy': '-11.80120617',\n",
       "   'Correlation energy': '-0.49633867',\n",
       "   'DOS at Fermi energy (states/Ha/cell)': '0.00000000',\n",
       "   'Electron charges': '',\n",
       "   'core': '2.00000000',\n",
       "   'core leakage': '0.00000000',\n",
       "   'valence': '10.00000000',\n",
       "   'interstitial': '1.05604195',\n",
       "   'charge in muffin-tin spheres': '',\n",
       "   'atom     1     F': '8.75099773',\n",
       "   'atom     2    Li': '2.19296032',\n",
       "   'total charge in muffin-tins': '10.94395805',\n",
       "   'total charge': '12.00000000',\n",
       "   'Estimated fundamental gap': '0.46675012',\n",
       "   'Wall time (seconds)': '6.55'},\n",
       "  '3': {'Total energy': '-107.25775069',\n",
       "   'Fermi energy': '0.47162594',\n",
       "   'Kinetic energy': '108.04799412',\n",
       "   'Coulomb energy': '-203.05423549',\n",
       "   'Exchange energy': '-11.75446753',\n",
       "   'Correlation energy': '-0.49704179',\n",
       "   'DOS at Fermi energy (states/Ha/cell)': '0.00000000',\n",
       "   'Electron charges': '',\n",
       "   'core': '2.00000000',\n",
       "   'core leakage': '0.00000000',\n",
       "   'valence': '10.00000000',\n",
       "   'interstitial': '1.08692825',\n",
       "   'charge in muffin-tin spheres': '',\n",
       "   'atom     1     F': '8.70653792',\n",
       "   'atom     2    Li': '2.20653384',\n",
       "   'total charge in muffin-tins': '10.91307175',\n",
       "   'total charge': '12.00000000',\n",
       "   'Estimated fundamental gap': '0.43976180',\n",
       "   'Wall time (seconds)': '8.65'},\n",
       "  '4': {'Total energy': '-109.01489345',\n",
       "   'Fermi energy': '0.43206733',\n",
       "   'Kinetic energy': '107.57310258',\n",
       "   'Coulomb energy': '-204.20073943',\n",
       "   'Exchange energy': '-11.89219068',\n",
       "   'Correlation energy': '-0.49506592',\n",
       "   'DOS at Fermi energy (states/Ha/cell)': '0.00000000',\n",
       "   'Electron charges': '',\n",
       "   'core': '2.00000000',\n",
       "   'core leakage': '0.00000000',\n",
       "   'valence': '10.00000000',\n",
       "   'interstitial': '1.00452180',\n",
       "   'charge in muffin-tin spheres': '',\n",
       "   'atom     1     F': '8.81987286',\n",
       "   'atom     2    Li': '2.17560535',\n",
       "   'total charge in muffin-tins': '10.99547820',\n",
       "   'total charge': '12.00000000',\n",
       "   'Estimated fundamental gap': '0.50841651',\n",
       "   'Wall time (seconds)': '10.76'},\n",
       "  '5': {'Total energy': '-104.59342923',\n",
       "   'Fermi energy': '0.51929616',\n",
       "   'Kinetic energy': '108.45430602',\n",
       "   'Coulomb energy': '-201.03606103',\n",
       "   'Exchange energy': '-11.51014047',\n",
       "   'Correlation energy': '-0.50153375',\n",
       "   'DOS at Fermi energy (states/Ha/cell)': '0.00000000',\n",
       "   'Electron charges': '',\n",
       "   'core': '2.00000000',\n",
       "   'core leakage': '0.00000000',\n",
       "   'valence': '10.00000000',\n",
       "   'interstitial': '1.25215451',\n",
       "   'charge in muffin-tin spheres': '',\n",
       "   'atom     1     F': '8.46766377',\n",
       "   'atom     2    Li': '2.28018171',\n",
       "   'total charge in muffin-tins': '10.74784549',\n",
       "   'total charge': '12.00000000',\n",
       "   'Estimated fundamental gap': '0.30780478',\n",
       "   'Wall time (seconds)': '12.86'},\n",
       "  '6': {'Total energy': '-107.21759417',\n",
       "   'Fermi energy': '0.46813450',\n",
       "   'Kinetic energy': '107.97973631',\n",
       "   'Coulomb energy': '-202.96133411',\n",
       "   'Exchange energy': '-11.73873227',\n",
       "   'Correlation energy': '-0.49726410',\n",
       "   'DOS at Fermi energy (states/Ha/cell)': '0.00000000',\n",
       "   'Electron charges': '',\n",
       "   'core': '2.00000000',\n",
       "   'core leakage': '0.00000000',\n",
       "   'valence': '10.00000000',\n",
       "   'interstitial': '1.09984267',\n",
       "   'charge in muffin-tin spheres': '',\n",
       "   'atom     1     F': '8.68607335',\n",
       "   'atom     2    Li': '2.21408399',\n",
       "   'total charge in muffin-tins': '10.90015733',\n",
       "   'total charge': '12.00000000',\n",
       "   'Estimated fundamental gap': '0.42745474',\n",
       "   'Wall time (seconds)': '14.97'},\n",
       "  '7': {'Total energy': '-107.01836703',\n",
       "   'Fermi energy': '0.47191386',\n",
       "   'Kinetic energy': '108.02163274',\n",
       "   'Coulomb energy': '-202.82132346',\n",
       "   'Exchange energy': '-11.72111203',\n",
       "   'Correlation energy': '-0.49756428',\n",
       "   'DOS at Fermi energy (states/Ha/cell)': '0.00000000',\n",
       "   'Electron charges': '',\n",
       "   'core': '2.00000000',\n",
       "   'core leakage': '0.00000000',\n",
       "   'valence': '10.00000000',\n",
       "   'interstitial': '1.11158297',\n",
       "   'charge in muffin-tin spheres': '',\n",
       "   'atom     1     F': '8.66936950',\n",
       "   'atom     2    Li': '2.21904754',\n",
       "   'total charge in muffin-tins': '10.88841703',\n",
       "   'total charge': '12.00000000',\n",
       "   'Estimated fundamental gap': '0.41758617',\n",
       "   'Wall time (seconds)': '17.07'},\n",
       "  '8': {'Total energy': '-107.05134603',\n",
       "   'Fermi energy': '0.47120140',\n",
       "   'Kinetic energy': '108.01462848',\n",
       "   'Coulomb energy': '-202.84451409',\n",
       "   'Exchange energy': '-11.72394129',\n",
       "   'Correlation energy': '-0.49751912',\n",
       "   'DOS at Fermi energy (states/Ha/cell)': '0.00000000',\n",
       "   'Electron charges': '',\n",
       "   'core': '2.00000000',\n",
       "   'core leakage': '0.00000000',\n",
       "   'valence': '10.00000000',\n",
       "   'interstitial': '1.10977781',\n",
       "   'charge in muffin-tin spheres': '',\n",
       "   'atom     1     F': '8.67194778',\n",
       "   'atom     2    Li': '2.21827441',\n",
       "   'total charge in muffin-tins': '10.89022219',\n",
       "   'total charge': '12.00000000',\n",
       "   'Estimated fundamental gap': '0.41906384',\n",
       "   'Wall time (seconds)': '19.17'},\n",
       "  '9': {'Total energy': '-107.05202976',\n",
       "   'Fermi energy': '0.47118312',\n",
       "   'Kinetic energy': '108.01457009',\n",
       "   'Coulomb energy': '-202.84509879',\n",
       "   'Exchange energy': '-11.72398191',\n",
       "   'Correlation energy': '-0.49751915',\n",
       "   'DOS at Fermi energy (states/Ha/cell)': '0.00000000',\n",
       "   'Electron charges': '',\n",
       "   'core': '2.00000000',\n",
       "   'core leakage': '0.00000000',\n",
       "   'valence': '10.00000000',\n",
       "   'interstitial': '1.10977708',\n",
       "   'charge in muffin-tin spheres': '',\n",
       "   'atom     1     F': '8.67194438',\n",
       "   'atom     2    Li': '2.21827854',\n",
       "   'total charge in muffin-tins': '10.89022292',\n",
       "   'total charge': '12.00000000',\n",
       "   'Estimated fundamental gap': '0.41905185',\n",
       "   'Wall time (seconds)': '21.27'}},\n",
       " 'TOTENERGY': array([-108.75147332, -107.74803581, -107.25775069, -109.01489345,\n",
       "        -104.59342924, -107.21759418, -107.01836703, -107.05134603,\n",
       "        -107.0507272 , -107.05202976])}"
      ]
     },
     "execution_count": 9,
     "metadata": {},
     "output_type": "execute_result"
    }
   ],
   "source": [
    "result = calculation1.parse_output()\n",
    "result"
   ]
  },
  {
   "cell_type": "markdown",
   "id": "74e4ae2c",
   "metadata": {},
   "source": [
    "Note: For the moment, only the `INFO.OUT` and `TOTENERGY.OUT` gets parsed. Extension is really easy (can be done by you or me, just ask me, any feedback is welcome)"
   ]
  },
  {
   "cell_type": "code",
   "execution_count": 10,
   "id": "ed78b803",
   "metadata": {},
   "outputs": [
    {
     "data": {
      "text/plain": [
       "'1.47810000'"
      ]
     },
     "execution_count": 10,
     "metadata": {},
     "output_type": "execute_result"
    }
   ],
   "source": [
    "result['initialization']['muffin-tin radius']"
   ]
  },
  {
   "cell_type": "markdown",
   "id": "cc9308b8",
   "metadata": {},
   "source": [
    "### Exciting BSE calculation of LiF"
   ]
  },
  {
   "cell_type": "code",
   "execution_count": 11,
   "id": "0e8b9e80",
   "metadata": {},
   "outputs": [],
   "source": [
    "lattice = [[0.5, 0.0, 0.0], [0.0, 0.5, 0.0], [0.0, 0.0, 0.5]]\n",
    "atoms = [{'species': 'Li', 'position': [0, 0, 0]},\n",
    "         {'species': 'F', 'position': [0.5, 0.5, 0.5]}]\n",
    "structure = ExcitingStructure(atoms, lattice, './',\n",
    "                              structure_properties={'autormt': True},\n",
    "                              crystal_properties={'scale': 7.608})\n",
    "groundstate = ExcitingGroundStateInput(ngridk=[4, 4, 4], rgkmax=5.0, gmaxvr=10, nempty=5, do='fromscratch',\n",
    "                                       xctype='GGA_PBE_SOL', lmaxmat=12, lmaxvr=12, lmaxapw=12, epschg=0.1,\n",
    "                                       epsengy=0.1, epspot=0.1)\n",
    "\n",
    "# XS part definition:\n",
    "# the attributes of the xs element:\n",
    "xs_attributes = {'broad': 0.327, 'ngridk': [1, 1, 1], 'nempty': 5, 'ngridq': [1, 1, 1], 'gqmax': 2.5,\n",
    "                 'tappinfo': True, 'tevout': True, 'vkloff': [0.05, 0.03, 0.13]}\n",
    "\n",
    "# define the necessary sub element trees for BSE calculation\n",
    "bse_attributes = {'bsetype': 'IP', 'xas': True, 'nstlxas': [1, 5], 'xasatom': 1, 'xasedge': 'K',\n",
    "                  'xasspecies': '1'}\n",
    "energywindow_attributes = {'intv': [50, 80], 'points': 100}\n",
    "screening_attributes = {'screentype': 'full', 'nempty': 5}\n",
    "# plan_input = ['xsgeneigvec', 'writepmatxs', 'scrgeneigvec', 'scrwritepmat', 'screen', 'scrcoulint', 'exccoulint',\n",
    "#              'bse']\n",
    "plan_input = ['xsgeneigvec', 'writepmatxs', 'bse']\n",
    "qpointset_input = [[0, 0, 0]]\n",
    "\n",
    "# compose the XS object with xstype and the attributes\n",
    "xs = ExcitingXSInput(\"BSE\", xs=xs_attributes,\n",
    "                     BSE=bse_attributes,\n",
    "                     energywindow=energywindow_attributes,\n",
    "                     screening=screening_attributes,\n",
    "                     qpointset=qpointset_input,\n",
    "                     plan=plan_input)\n",
    "\n",
    "slurm_directives = slurm.set_slurm_directives(job_name='test2',\n",
    "                                                  time=[0, 0, 5, 0],\n",
    "                                                  partition='debug',\n",
    "                                                  exclusive=True,\n",
    "                                                  nodes=1,\n",
    "                                                  ntasks_per_node=4,\n",
    "                                                  cpus_per_task=4,\n",
    "                                                  hint='nomultithread')\n",
    "\n",
    "# BSE calculation, pass xs as last parameter\n",
    "calculation2 = ExcitingSlurmCalculation('test2', 'calculation2', structure,\n",
    "                                        '/mnt/beegfs2018/scratch/peschelf/code/exciting/species/', \n",
    "                                        groundstate, xs, slurm_directives)"
   ]
  },
  {
   "cell_type": "code",
   "execution_count": 12,
   "id": "053d4d87",
   "metadata": {},
   "outputs": [
    {
     "name": "stdout",
     "output_type": "stream",
     "text": [
      "<?xml version=\"1.0\" ?>\n",
      "<input>\n",
      "\t<title>test2</title>\n",
      "\t<structure speciespath=\"./\" autormt=\"true\">\n",
      "\t\t<crystal scale=\"7.608\">\n",
      "\t\t\t<basevect>0.5 0.0 0.0</basevect>\n",
      "\t\t\t<basevect>0.0 0.5 0.0</basevect>\n",
      "\t\t\t<basevect>0.0 0.0 0.5</basevect>\n",
      "\t\t</crystal>\n",
      "\t\t<species speciesfile=\"F.xml\">\n",
      "\t\t\t<atom coord=\"0.5 0.5 0.5\"> </atom>\n",
      "\t\t</species>\n",
      "\t\t<species speciesfile=\"Li.xml\">\n",
      "\t\t\t<atom coord=\"0 0 0\"> </atom>\n",
      "\t\t</species>\n",
      "\t</structure>\n",
      "\t<groundstate ngridk=\"4 4 4\" rgkmax=\"5.0\" gmaxvr=\"10\" nempty=\"5\" do=\"fromscratch\" xctype=\"GGA_PBE_SOL\" lmaxmat=\"12\" lmaxvr=\"12\" lmaxapw=\"12\" epschg=\"0.1\" epsengy=\"0.1\" epspot=\"0.1\"> </groundstate>\n",
      "\t<xs xstype=\"BSE\" broad=\"0.327\" ngridk=\"1 1 1\" nempty=\"5\" ngridq=\"1 1 1\" gqmax=\"2.5\" tappinfo=\"true\" tevout=\"true\" vkloff=\"0.05 0.03 0.13\">\n",
      "\t\t<screening screentype=\"full\" nempty=\"5\"> </screening>\n",
      "\t\t<BSE bsetype=\"IP\" xas=\"true\" nstlxas=\"1 5\" xasatom=\"1\" xasedge=\"K\" xasspecies=\"1\"> </BSE>\n",
      "\t\t<energywindow intv=\"50 80\" points=\"100\"> </energywindow>\n",
      "\t\t<qpointset>\n",
      "\t\t\t<qpoint>0 0 0</qpoint>\n",
      "\t\t</qpointset>\n",
      "\t\t<plan>\n",
      "\t\t\t<doonly task=\"xsgeneigvec\"/>\n",
      "\t\t\t<doonly task=\"writepmatxs\"/>\n",
      "\t\t\t<doonly task=\"bse\"/>\n",
      "\t\t</plan>\n",
      "\t</xs>\n",
      "</input>\n",
      "\n",
      "\n"
     ]
    }
   ],
   "source": [
    "calculation2.write_inputs()\n",
    "with open('calculation2/input.xml', 'r') as fid:\n",
    "    print(fid.read())"
   ]
  },
  {
   "cell_type": "code",
   "execution_count": 13,
   "id": "d6ea63ec",
   "metadata": {
    "scrolled": true
   },
   "outputs": [
    {
     "name": "stdout",
     "output_type": "stream",
     "text": [
      "Put calculation into queue, JOBID=8547\n",
      "StdOut: ['Info(bselauncher): Rank=   1 is idle.\\n', 'Info(bselauncher): Rank=   2 is idle.\\n', 'Info(bselauncher): Rank=   3 is idle.\\n']\n",
      "StdErr: []\n",
      "Return Code: 0\n",
      "Process time: 61.22982692718506\n",
      "Success: True\n"
     ]
    }
   ],
   "source": [
    "run_result = calculation2.run()\n",
    "print('StdOut:', run_result.stdout)\n",
    "print('StdErr:', run_result.stderr)\n",
    "print('Return Code:', run_result.return_code)\n",
    "print('Process time:', run_result.process_time)\n",
    "print('Success:', run_result.success)"
   ]
  },
  {
   "cell_type": "code",
   "execution_count": 14,
   "id": "0aad5d39",
   "metadata": {
    "scrolled": true
   },
   "outputs": [
    {
     "name": "stdout",
     "output_type": "stream",
     "text": [
      "{'frequency': array([1360.569193  , 1368.73260816, 1376.89602332, 1385.05943847,\n",
      "       1393.22285363, 1401.38626879, 1409.54968395, 1417.71309911,\n",
      "       1425.87651426, 1434.03992942, 1442.20334458, 1450.36675974,\n",
      "       1458.5301749 , 1466.69359005, 1474.85700521, 1483.02042037,\n",
      "       1491.18383553, 1499.34725069, 1507.51066584, 1515.674081  ,\n",
      "       1523.83749616, 1532.00091132, 1540.16432648, 1548.32774163,\n",
      "       1556.49115679, 1564.65457195, 1572.81798711, 1580.98140227,\n",
      "       1589.14481742, 1597.30823258, 1605.47164774, 1613.6350629 ,\n",
      "       1621.79847806, 1629.96189321, 1638.12530837, 1646.28872353,\n",
      "       1654.45213869, 1662.61555385, 1670.778969  , 1678.94238416,\n",
      "       1687.10579932, 1695.26921448, 1703.43262964, 1711.59604479,\n",
      "       1719.75945995, 1727.92287511, 1736.08629027, 1744.24970543,\n",
      "       1752.41312058, 1760.57653574, 1768.7399509 , 1776.90336606,\n",
      "       1785.06678122, 1793.23019637, 1801.39361153, 1809.55702669,\n",
      "       1817.72044185, 1825.88385701, 1834.04727216, 1842.21068732,\n",
      "       1850.37410248, 1858.53751764, 1866.7009328 , 1874.86434795,\n",
      "       1883.02776311, 1891.19117827, 1899.35459343, 1907.51800859,\n",
      "       1915.68142374, 1923.8448389 , 1932.00825406, 1940.17166922,\n",
      "       1948.33508438, 1956.49849953, 1964.66191469, 1972.82532985,\n",
      "       1980.98874501, 1989.15216017, 1997.31557532, 2005.47899048,\n",
      "       2013.64240564, 2021.8058208 , 2029.96923596, 2038.13265111,\n",
      "       2046.29606627, 2054.45948143, 2062.62289659, 2070.78631175,\n",
      "       2078.9497269 , 2087.11314206, 2095.27655722, 2103.43997238,\n",
      "       2111.60338754, 2119.76680269, 2127.93021785, 2136.09363301,\n",
      "       2144.25704817, 2152.42046333, 2160.58387848, 2168.74729364]), 'real_oscillator_strength': array([0.99998619, 0.99998635, 0.99998651, 0.99998667, 0.99998682,\n",
      "       0.99998697, 0.99998711, 0.99998726, 0.9999874 , 0.99998753,\n",
      "       0.99998766, 0.99998779, 0.99998792, 0.99998805, 0.99998817,\n",
      "       0.99998829, 0.99998841, 0.99998852, 0.99998863, 0.99998875,\n",
      "       0.99998885, 0.99998896, 0.99998906, 0.99998917, 0.99998927,\n",
      "       0.99998937, 0.99998946, 0.99998956, 0.99998965, 0.99998974,\n",
      "       0.99998983, 0.99998992, 0.99999001, 0.9999901 , 0.99999018,\n",
      "       0.99999026, 0.99999034, 0.99999042, 0.9999905 , 0.99999058,\n",
      "       0.99999066, 0.99999073, 0.9999908 , 0.99999088, 0.99999095,\n",
      "       0.99999102, 0.99999109, 0.99999116, 0.99999122, 0.99999129,\n",
      "       0.99999136, 0.99999142, 0.99999148, 0.99999154, 0.99999161,\n",
      "       0.99999167, 0.99999173, 0.99999179, 0.99999184, 0.9999919 ,\n",
      "       0.99999196, 0.99999201, 0.99999207, 0.99999212, 0.99999217,\n",
      "       0.99999223, 0.99999228, 0.99999233, 0.99999238, 0.99999243,\n",
      "       0.99999248, 0.99999253, 0.99999258, 0.99999262, 0.99999267,\n",
      "       0.99999272, 0.99999276, 0.99999281, 0.99999285, 0.9999929 ,\n",
      "       0.99999294, 0.99999298, 0.99999302, 0.99999307, 0.99999311,\n",
      "       0.99999315, 0.99999319, 0.99999323, 0.99999327, 0.99999331,\n",
      "       0.99999335, 0.99999338, 0.99999342, 0.99999346, 0.9999935 ,\n",
      "       0.99999353, 0.99999357, 0.9999936 , 0.99999364, 0.99999367]), 'imag_oscillator_strength': array([1.79915712e-07, 1.75691253e-07, 1.71613850e-07, 1.67676757e-07,\n",
      "       1.63873608e-07, 1.60198397e-07, 1.56645448e-07, 1.53209398e-07,\n",
      "       1.49885175e-07, 1.46667978e-07, 1.43553261e-07, 1.40536719e-07,\n",
      "       1.37614268e-07, 1.34782035e-07, 1.32036344e-07, 1.29373707e-07,\n",
      "       1.26790805e-07, 1.24284488e-07, 1.21851757e-07, 1.19489759e-07,\n",
      "       1.17195779e-07, 1.14967230e-07, 1.12801646e-07, 1.10696679e-07,\n",
      "       1.08650087e-07, 1.06659731e-07, 1.04723570e-07, 1.02839653e-07,\n",
      "       1.01006119e-07, 9.92211852e-08, 9.74831504e-08, 9.57903857e-08,\n",
      "       9.41413322e-08, 9.25344980e-08, 9.09684541e-08, 8.94418313e-08,\n",
      "       8.79533177e-08, 8.65016553e-08, 8.50856376e-08, 8.37041071e-08,\n",
      "       8.23559530e-08, 8.10401087e-08, 7.97555500e-08, 7.85012928e-08,\n",
      "       7.72763917e-08, 7.60799376e-08, 7.49110563e-08, 7.37689072e-08,\n",
      "       7.26526812e-08, 7.15615998e-08, 7.04949134e-08, 6.94519000e-08,\n",
      "       6.84318645e-08, 6.74341366e-08, 6.64580708e-08, 6.55030443e-08,\n",
      "       6.45684569e-08, 6.36537295e-08, 6.27583032e-08, 6.18816390e-08,\n",
      "       6.10232162e-08, 6.01825323e-08, 5.93591018e-08, 5.85524560e-08,\n",
      "       5.77621415e-08, 5.69877206e-08, 5.62287700e-08, 5.54848802e-08,\n",
      "       5.47556555e-08, 5.40407129e-08, 5.33396818e-08, 5.26522036e-08,\n",
      "       5.19779312e-08, 5.13165286e-08, 5.06676703e-08, 5.00310410e-08,\n",
      "       4.94063355e-08, 4.87932577e-08, 4.81915208e-08, 4.76008470e-08,\n",
      "       4.70209665e-08, 4.64516182e-08, 4.58925483e-08, 4.53435111e-08,\n",
      "       4.48042678e-08, 4.42745870e-08, 4.37542439e-08, 4.32430201e-08,\n",
      "       4.27407040e-08, 4.22470898e-08, 4.17619775e-08, 4.12851731e-08,\n",
      "       4.08164880e-08, 4.03557388e-08, 3.99027474e-08, 3.94573406e-08,\n",
      "       3.90193500e-08, 3.85886119e-08, 3.81649670e-08, 3.77482605e-08]), 'real_oscillator_strength_kkt': array([1.00000024, 1.0000002 , 1.00000014, 1.00000012, 1.0000001 ,\n",
      "       1.00000009, 1.00000008, 1.00000007, 1.00000006, 1.00000005,\n",
      "       1.00000004, 1.00000004, 1.00000003, 1.00000003, 1.00000002,\n",
      "       1.00000002, 1.00000002, 1.00000001, 1.00000001, 1.00000001,\n",
      "       1.        , 1.        , 1.        , 1.        , 1.        ,\n",
      "       0.99999999, 0.99999999, 0.99999999, 0.99999999, 0.99999999,\n",
      "       0.99999999, 0.99999998, 0.99999998, 0.99999998, 0.99999998,\n",
      "       0.99999998, 0.99999998, 0.99999998, 0.99999998, 0.99999998,\n",
      "       0.99999998, 0.99999997, 0.99999997, 0.99999997, 0.99999997,\n",
      "       0.99999997, 0.99999997, 0.99999997, 0.99999997, 0.99999997,\n",
      "       0.99999997, 0.99999997, 0.99999997, 0.99999997, 0.99999997,\n",
      "       0.99999997, 0.99999997, 0.99999997, 0.99999997, 0.99999997,\n",
      "       0.99999996, 0.99999996, 0.99999996, 0.99999996, 0.99999996,\n",
      "       0.99999996, 0.99999996, 0.99999996, 0.99999996, 0.99999996,\n",
      "       0.99999996, 0.99999996, 0.99999996, 0.99999996, 0.99999996,\n",
      "       0.99999996, 0.99999996, 0.99999996, 0.99999996, 0.99999996,\n",
      "       0.99999996, 0.99999996, 0.99999996, 0.99999996, 0.99999995,\n",
      "       0.99999995, 0.99999995, 0.99999995, 0.99999995, 0.99999995,\n",
      "       0.99999995, 0.99999995, 0.99999995, 0.99999995, 0.99999994,\n",
      "       0.99999994, 0.99999994, 0.99999994, 0.99999992, 0.99999992])}\n"
     ]
    }
   ],
   "source": [
    "result_2 = calculation2.parse_output()\n",
    "print(result_2)"
   ]
  },
  {
   "cell_type": "markdown",
   "id": "38fbf70f",
   "metadata": {},
   "source": [
    "### Exciting BSE calculation on top of groundstate Calculation"
   ]
  },
  {
   "cell_type": "code",
   "execution_count": 15,
   "id": "b076efad",
   "metadata": {},
   "outputs": [],
   "source": [
    "xs_attributes = {'broad': 0.327, 'ngridk': [1, 1, 1], 'nempty': 5, 'ngridq': [1, 1, 1], 'gqmax': 2.5,\n",
    "                     'tappinfo': True, 'tevout': True, 'vkloff': [0.05, 0.03, 0.13]}\n",
    "bse_attributes = {'bsetype': 'IP', 'xas': True, 'nstlxas': [1, 5], 'xasatom': 1, 'xasedge': 'K',\n",
    "                  'xasspecies': '1'}\n",
    "energywindow_attributes = {'intv': [50, 80], 'points': 100}\n",
    "screening_attributes = {'screentype': 'full', 'nempty': 5}\n",
    "plan_input = ['xsgeneigvec', 'writepmatxs', 'bse']\n",
    "qpointset_input = [[0, 0, 0]]\n",
    "xs = ExcitingXSInput(\"BSE\", xs=xs_attributes,\n",
    "                     BSE=bse_attributes,\n",
    "                     energywindow=energywindow_attributes,\n",
    "                     screening=screening_attributes,\n",
    "                     qpointset=qpointset_input,\n",
    "                     plan=plan_input)\n",
    "\n",
    "slurm_directives = slurm.set_slurm_directives(job_name='test3',\n",
    "                                                  time=[0, 0, 5, 0],\n",
    "                                                  partition='debug',\n",
    "                                                  exclusive=True,\n",
    "                                                  nodes=1,\n",
    "                                                  ntasks_per_node=4,\n",
    "                                                  cpus_per_task=4,\n",
    "                                                  hint='nomultithread')\n",
    "\n",
    "calculation3 = ExcitingSlurmCalculation('test3', 'calculation3', 'calculation1', 'calculation1',\n",
    "                                        'calculation1', xs, slurm_directives)"
   ]
  },
  {
   "cell_type": "code",
   "execution_count": 16,
   "id": "31d370cc",
   "metadata": {},
   "outputs": [
    {
     "name": "stdout",
     "output_type": "stream",
     "text": [
      "<?xml version=\"1.0\" ?>\n",
      "<input>\n",
      "\t<title>test3</title>\n",
      "\t<structure speciespath=\"./\" autormt=\"true\">\n",
      "\t\t<crystal scale=\"7.608\">\n",
      "\t\t\t<basevect>0.5 0.0 0.0</basevect>\n",
      "\t\t\t<basevect>0.0 0.5 0.0</basevect>\n",
      "\t\t\t<basevect>0.0 0.0 0.5</basevect>\n",
      "\t\t</crystal>\n",
      "\t\t<species speciesfile=\"F.xml\">\n",
      "\t\t\t<atom coord=\"0.5 0.5 0.5\"> </atom>\n",
      "\t\t</species>\n",
      "\t\t<species speciesfile=\"Li.xml\">\n",
      "\t\t\t<atom coord=\"0.0 0.0 0.0\"> </atom>\n",
      "\t\t</species>\n",
      "\t</structure>\n",
      "\t<groundstate ngridk=\"4 4 4\" rgkmax=\"5.0\" gmaxvr=\"10\" nempty=\"5\" do=\"skip\" xctype=\"GGA_PBE_SOL\" lmaxmat=\"12\" lmaxvr=\"12\" lmaxapw=\"12\" epschg=\"0.1\" epsengy=\"0.1\" epspot=\"0.1\"> </groundstate>\n",
      "\t<xs xstype=\"BSE\" broad=\"0.327\" ngridk=\"1 1 1\" nempty=\"5\" ngridq=\"1 1 1\" gqmax=\"2.5\" tappinfo=\"true\" tevout=\"true\" vkloff=\"0.05 0.03 0.13\">\n",
      "\t\t<screening screentype=\"full\" nempty=\"5\"> </screening>\n",
      "\t\t<BSE bsetype=\"IP\" xas=\"true\" nstlxas=\"1 5\" xasatom=\"1\" xasedge=\"K\" xasspecies=\"1\"> </BSE>\n",
      "\t\t<energywindow intv=\"50 80\" points=\"100\"> </energywindow>\n",
      "\t\t<qpointset>\n",
      "\t\t\t<qpoint>0 0 0</qpoint>\n",
      "\t\t</qpointset>\n",
      "\t\t<plan>\n",
      "\t\t\t<doonly task=\"xsgeneigvec\"/>\n",
      "\t\t\t<doonly task=\"writepmatxs\"/>\n",
      "\t\t\t<doonly task=\"bse\"/>\n",
      "\t\t</plan>\n",
      "\t</xs>\n",
      "</input>\n",
      "\n",
      "\n"
     ]
    }
   ],
   "source": [
    "calculation3.write_inputs()\n",
    "with open('calculation3/input.xml', 'r') as fid:\n",
    "    print(fid.read())"
   ]
  },
  {
   "cell_type": "code",
   "execution_count": 17,
   "id": "377321bd",
   "metadata": {},
   "outputs": [
    {
     "data": {
      "text/plain": [
       "['STATE.OUT', 'EFERMI.OUT', 'F.xml', 'Li.xml', 'input.xml', 'submit_run.sh']"
      ]
     },
     "execution_count": 17,
     "metadata": {},
     "output_type": "execute_result"
    }
   ],
   "source": [
    "os.listdir('calculation3')"
   ]
  },
  {
   "cell_type": "code",
   "execution_count": 18,
   "id": "26c4363e",
   "metadata": {},
   "outputs": [
    {
     "name": "stdout",
     "output_type": "stream",
     "text": [
      "Put calculation into queue, JOBID=8548\n",
      "StdOut: ['Info(bselauncher): Rank=   1 is idle.\\n', 'Info(bselauncher): Rank=   2 is idle.\\n', 'Info(bselauncher): Rank=   3 is idle.\\n']\n",
      "StdErr: []\n",
      "Return Code: 0\n",
      "Process time: 31.160235166549683\n",
      "Success: True\n"
     ]
    }
   ],
   "source": [
    "run_result = calculation3.run()\n",
    "print('StdOut:', run_result.stdout)\n",
    "print('StdErr:', run_result.stderr)\n",
    "print('Return Code:', run_result.return_code)\n",
    "print('Process time:', run_result.process_time)\n",
    "print('Success:', run_result.success)"
   ]
  },
  {
   "cell_type": "code",
   "execution_count": 19,
   "id": "fe4daf74",
   "metadata": {
    "scrolled": true
   },
   "outputs": [
    {
     "data": {
      "text/plain": [
       "{'frequency': array([1360.569193  , 1368.73260816, 1376.89602332, 1385.05943847,\n",
       "        1393.22285363, 1401.38626879, 1409.54968395, 1417.71309911,\n",
       "        1425.87651426, 1434.03992942, 1442.20334458, 1450.36675974,\n",
       "        1458.5301749 , 1466.69359005, 1474.85700521, 1483.02042037,\n",
       "        1491.18383553, 1499.34725069, 1507.51066584, 1515.674081  ,\n",
       "        1523.83749616, 1532.00091132, 1540.16432648, 1548.32774163,\n",
       "        1556.49115679, 1564.65457195, 1572.81798711, 1580.98140227,\n",
       "        1589.14481742, 1597.30823258, 1605.47164774, 1613.6350629 ,\n",
       "        1621.79847806, 1629.96189321, 1638.12530837, 1646.28872353,\n",
       "        1654.45213869, 1662.61555385, 1670.778969  , 1678.94238416,\n",
       "        1687.10579932, 1695.26921448, 1703.43262964, 1711.59604479,\n",
       "        1719.75945995, 1727.92287511, 1736.08629027, 1744.24970543,\n",
       "        1752.41312058, 1760.57653574, 1768.7399509 , 1776.90336606,\n",
       "        1785.06678122, 1793.23019637, 1801.39361153, 1809.55702669,\n",
       "        1817.72044185, 1825.88385701, 1834.04727216, 1842.21068732,\n",
       "        1850.37410248, 1858.53751764, 1866.7009328 , 1874.86434795,\n",
       "        1883.02776311, 1891.19117827, 1899.35459343, 1907.51800859,\n",
       "        1915.68142374, 1923.8448389 , 1932.00825406, 1940.17166922,\n",
       "        1948.33508438, 1956.49849953, 1964.66191469, 1972.82532985,\n",
       "        1980.98874501, 1989.15216017, 1997.31557532, 2005.47899048,\n",
       "        2013.64240564, 2021.8058208 , 2029.96923596, 2038.13265111,\n",
       "        2046.29606627, 2054.45948143, 2062.62289659, 2070.78631175,\n",
       "        2078.9497269 , 2087.11314206, 2095.27655722, 2103.43997238,\n",
       "        2111.60338754, 2119.76680269, 2127.93021785, 2136.09363301,\n",
       "        2144.25704817, 2152.42046333, 2160.58387848, 2168.74729364]),\n",
       " 'real_oscillator_strength': array([0.99998619, 0.99998635, 0.99998651, 0.99998667, 0.99998682,\n",
       "        0.99998697, 0.99998711, 0.99998726, 0.9999874 , 0.99998753,\n",
       "        0.99998766, 0.99998779, 0.99998792, 0.99998805, 0.99998817,\n",
       "        0.99998829, 0.99998841, 0.99998852, 0.99998863, 0.99998875,\n",
       "        0.99998885, 0.99998896, 0.99998906, 0.99998917, 0.99998927,\n",
       "        0.99998937, 0.99998946, 0.99998956, 0.99998965, 0.99998974,\n",
       "        0.99998983, 0.99998992, 0.99999001, 0.9999901 , 0.99999018,\n",
       "        0.99999026, 0.99999034, 0.99999042, 0.9999905 , 0.99999058,\n",
       "        0.99999066, 0.99999073, 0.9999908 , 0.99999088, 0.99999095,\n",
       "        0.99999102, 0.99999109, 0.99999116, 0.99999122, 0.99999129,\n",
       "        0.99999136, 0.99999142, 0.99999148, 0.99999154, 0.99999161,\n",
       "        0.99999167, 0.99999173, 0.99999179, 0.99999184, 0.9999919 ,\n",
       "        0.99999196, 0.99999201, 0.99999207, 0.99999212, 0.99999217,\n",
       "        0.99999223, 0.99999228, 0.99999233, 0.99999238, 0.99999243,\n",
       "        0.99999248, 0.99999253, 0.99999258, 0.99999262, 0.99999267,\n",
       "        0.99999272, 0.99999276, 0.99999281, 0.99999285, 0.9999929 ,\n",
       "        0.99999294, 0.99999298, 0.99999302, 0.99999307, 0.99999311,\n",
       "        0.99999315, 0.99999319, 0.99999323, 0.99999327, 0.99999331,\n",
       "        0.99999335, 0.99999338, 0.99999342, 0.99999346, 0.9999935 ,\n",
       "        0.99999353, 0.99999357, 0.9999936 , 0.99999364, 0.99999367]),\n",
       " 'imag_oscillator_strength': array([1.79915712e-07, 1.75691253e-07, 1.71613850e-07, 1.67676757e-07,\n",
       "        1.63873608e-07, 1.60198397e-07, 1.56645448e-07, 1.53209398e-07,\n",
       "        1.49885175e-07, 1.46667978e-07, 1.43553261e-07, 1.40536719e-07,\n",
       "        1.37614268e-07, 1.34782035e-07, 1.32036344e-07, 1.29373707e-07,\n",
       "        1.26790805e-07, 1.24284488e-07, 1.21851757e-07, 1.19489759e-07,\n",
       "        1.17195779e-07, 1.14967230e-07, 1.12801646e-07, 1.10696679e-07,\n",
       "        1.08650087e-07, 1.06659731e-07, 1.04723570e-07, 1.02839653e-07,\n",
       "        1.01006119e-07, 9.92211852e-08, 9.74831504e-08, 9.57903857e-08,\n",
       "        9.41413322e-08, 9.25344980e-08, 9.09684541e-08, 8.94418313e-08,\n",
       "        8.79533177e-08, 8.65016553e-08, 8.50856376e-08, 8.37041071e-08,\n",
       "        8.23559530e-08, 8.10401087e-08, 7.97555500e-08, 7.85012928e-08,\n",
       "        7.72763917e-08, 7.60799376e-08, 7.49110563e-08, 7.37689072e-08,\n",
       "        7.26526812e-08, 7.15615998e-08, 7.04949134e-08, 6.94519000e-08,\n",
       "        6.84318645e-08, 6.74341366e-08, 6.64580708e-08, 6.55030443e-08,\n",
       "        6.45684569e-08, 6.36537295e-08, 6.27583032e-08, 6.18816390e-08,\n",
       "        6.10232162e-08, 6.01825323e-08, 5.93591018e-08, 5.85524560e-08,\n",
       "        5.77621415e-08, 5.69877206e-08, 5.62287700e-08, 5.54848802e-08,\n",
       "        5.47556555e-08, 5.40407129e-08, 5.33396818e-08, 5.26522036e-08,\n",
       "        5.19779312e-08, 5.13165286e-08, 5.06676703e-08, 5.00310410e-08,\n",
       "        4.94063355e-08, 4.87932577e-08, 4.81915208e-08, 4.76008470e-08,\n",
       "        4.70209665e-08, 4.64516182e-08, 4.58925483e-08, 4.53435111e-08,\n",
       "        4.48042678e-08, 4.42745870e-08, 4.37542439e-08, 4.32430201e-08,\n",
       "        4.27407040e-08, 4.22470898e-08, 4.17619775e-08, 4.12851731e-08,\n",
       "        4.08164880e-08, 4.03557388e-08, 3.99027474e-08, 3.94573406e-08,\n",
       "        3.90193500e-08, 3.85886119e-08, 3.81649670e-08, 3.77482605e-08]),\n",
       " 'real_oscillator_strength_kkt': array([1.00000024, 1.0000002 , 1.00000014, 1.00000012, 1.0000001 ,\n",
       "        1.00000009, 1.00000008, 1.00000007, 1.00000006, 1.00000005,\n",
       "        1.00000004, 1.00000004, 1.00000003, 1.00000003, 1.00000002,\n",
       "        1.00000002, 1.00000002, 1.00000001, 1.00000001, 1.00000001,\n",
       "        1.        , 1.        , 1.        , 1.        , 1.        ,\n",
       "        0.99999999, 0.99999999, 0.99999999, 0.99999999, 0.99999999,\n",
       "        0.99999999, 0.99999998, 0.99999998, 0.99999998, 0.99999998,\n",
       "        0.99999998, 0.99999998, 0.99999998, 0.99999998, 0.99999998,\n",
       "        0.99999998, 0.99999997, 0.99999997, 0.99999997, 0.99999997,\n",
       "        0.99999997, 0.99999997, 0.99999997, 0.99999997, 0.99999997,\n",
       "        0.99999997, 0.99999997, 0.99999997, 0.99999997, 0.99999997,\n",
       "        0.99999997, 0.99999997, 0.99999997, 0.99999997, 0.99999997,\n",
       "        0.99999996, 0.99999996, 0.99999996, 0.99999996, 0.99999996,\n",
       "        0.99999996, 0.99999996, 0.99999996, 0.99999996, 0.99999996,\n",
       "        0.99999996, 0.99999996, 0.99999996, 0.99999996, 0.99999996,\n",
       "        0.99999996, 0.99999996, 0.99999996, 0.99999996, 0.99999996,\n",
       "        0.99999996, 0.99999996, 0.99999996, 0.99999996, 0.99999995,\n",
       "        0.99999995, 0.99999995, 0.99999995, 0.99999995, 0.99999995,\n",
       "        0.99999995, 0.99999995, 0.99999995, 0.99999995, 0.99999994,\n",
       "        0.99999994, 0.99999994, 0.99999994, 0.99999992, 0.99999992])}"
      ]
     },
     "execution_count": 19,
     "metadata": {},
     "output_type": "execute_result"
    }
   ],
   "source": [
    "result_3 = calculation3.parse_output()\n",
    "result_3"
   ]
  },
  {
   "cell_type": "code",
   "execution_count": 20,
   "id": "4fe41c01",
   "metadata": {},
   "outputs": [
    {
     "data": {
      "text/plain": [
       "True"
      ]
     },
     "execution_count": 20,
     "metadata": {},
     "output_type": "execute_result"
    }
   ],
   "source": [
    "result_2['imag_oscillator_strength'].all() == result_3['imag_oscillator_strength'].all()"
   ]
  },
  {
   "cell_type": "markdown",
   "id": "9d34f319",
   "metadata": {},
   "source": [
    "### Using the groundstate calculation object"
   ]
  },
  {
   "cell_type": "code",
   "execution_count": 21,
   "id": "cb27db52",
   "metadata": {},
   "outputs": [],
   "source": [
    "xs_attributes = {'broad': 0.327, 'ngridk': [1, 1, 1], 'nempty': 5, 'ngridq': [1, 1, 1], 'gqmax': 2.5,\n",
    "                     'tappinfo': True, 'tevout': True, 'vkloff': [0.05, 0.03, 0.13]}\n",
    "bse_attributes = {'bsetype': 'IP', 'xas': True, 'nstlxas': [1, 5], 'xasatom': 1, 'xasedge': 'K',\n",
    "                  'xasspecies': '1'}\n",
    "energywindow_attributes = {'intv': [50, 80], 'points': 100}\n",
    "screening_attributes = {'screentype': 'full', 'nempty': 5}\n",
    "plan_input = ['xsgeneigvec', 'writepmatxs', 'bse']\n",
    "qpointset_input = [[0, 0, 0]]\n",
    "xs = ExcitingXSInput(\"BSE\", xs=xs_attributes,\n",
    "                     BSE=bse_attributes,\n",
    "                     energywindow=energywindow_attributes,\n",
    "                     screening=screening_attributes,\n",
    "                     qpointset=qpointset_input,\n",
    "                     plan=plan_input)\n",
    "\n",
    "slurm_directives = slurm.set_slurm_directives(job_name='test4',\n",
    "                                                  time=[0, 0, 5, 0],\n",
    "                                                  partition='debug',\n",
    "                                                  exclusive=True,\n",
    "                                                  nodes=1,\n",
    "                                                  ntasks_per_node=4,\n",
    "                                                  cpus_per_task=4,\n",
    "                                                  hint='nomultithread')\n",
    "\n",
    "calculation4 = ExcitingSlurmCalculation('test4', 'calculation4', calculation1, calculation1, calculation1,\n",
    "                                        xs, slurm_directives)"
   ]
  },
  {
   "cell_type": "code",
   "execution_count": 22,
   "id": "8b89ba46",
   "metadata": {},
   "outputs": [
    {
     "name": "stdout",
     "output_type": "stream",
     "text": [
      "<?xml version=\"1.0\" ?>\n",
      "<input>\n",
      "\t<title>test4</title>\n",
      "\t<structure speciespath=\"./\" autormt=\"true\">\n",
      "\t\t<crystal scale=\"7.608\">\n",
      "\t\t\t<basevect>0.5 0.0 0.0</basevect>\n",
      "\t\t\t<basevect>0.0 0.5 0.0</basevect>\n",
      "\t\t\t<basevect>0.0 0.0 0.5</basevect>\n",
      "\t\t</crystal>\n",
      "\t\t<species speciesfile=\"F.xml\">\n",
      "\t\t\t<atom coord=\"0.5 0.5 0.5\"> </atom>\n",
      "\t\t</species>\n",
      "\t\t<species speciesfile=\"Li.xml\">\n",
      "\t\t\t<atom coord=\"0 0 0\"> </atom>\n",
      "\t\t</species>\n",
      "\t</structure>\n",
      "\t<groundstate ngridk=\"4 4 4\" rgkmax=\"5.0\" gmaxvr=\"10\" nempty=\"5\" do=\"skip\" xctype=\"GGA_PBE_SOL\" lmaxmat=\"12\" lmaxvr=\"12\" lmaxapw=\"12\" epschg=\"0.1\" epsengy=\"0.1\" epspot=\"0.1\"> </groundstate>\n",
      "\t<xs xstype=\"BSE\" broad=\"0.327\" ngridk=\"1 1 1\" nempty=\"5\" ngridq=\"1 1 1\" gqmax=\"2.5\" tappinfo=\"true\" tevout=\"true\" vkloff=\"0.05 0.03 0.13\">\n",
      "\t\t<screening screentype=\"full\" nempty=\"5\"> </screening>\n",
      "\t\t<BSE bsetype=\"IP\" xas=\"true\" nstlxas=\"1 5\" xasatom=\"1\" xasedge=\"K\" xasspecies=\"1\"> </BSE>\n",
      "\t\t<energywindow intv=\"50 80\" points=\"100\"> </energywindow>\n",
      "\t\t<qpointset>\n",
      "\t\t\t<qpoint>0 0 0</qpoint>\n",
      "\t\t</qpointset>\n",
      "\t\t<plan>\n",
      "\t\t\t<doonly task=\"xsgeneigvec\"/>\n",
      "\t\t\t<doonly task=\"writepmatxs\"/>\n",
      "\t\t\t<doonly task=\"bse\"/>\n",
      "\t\t</plan>\n",
      "\t</xs>\n",
      "</input>\n",
      "\n",
      "\n"
     ]
    }
   ],
   "source": [
    "calculation4.write_inputs()\n",
    "with open('calculation4/input.xml', 'r') as fid:\n",
    "    print(fid.read())"
   ]
  },
  {
   "cell_type": "code",
   "execution_count": 23,
   "id": "468dc880",
   "metadata": {},
   "outputs": [
    {
     "name": "stdout",
     "output_type": "stream",
     "text": [
      "Put calculation into queue, JOBID=8549\n",
      "StdOut: ['Info(bselauncher): Rank=   2 is idle.\\n', 'Info(bselauncher): Rank=   3 is idle.\\n', 'Info(bselauncher): Rank=   1 is idle.\\n']\n",
      "StdErr: []\n",
      "Return Code: 0\n",
      "Process time: 31.15945839881897\n",
      "Success: True\n"
     ]
    }
   ],
   "source": [
    "run_result = calculation4.run()\n",
    "print('StdOut:', run_result.stdout)\n",
    "print('StdErr:', run_result.stderr)\n",
    "print('Return Code:', run_result.return_code)\n",
    "print('Process time:', run_result.process_time)\n",
    "print('Success:', run_result.success)"
   ]
  },
  {
   "cell_type": "code",
   "execution_count": 24,
   "id": "48ee24ca",
   "metadata": {
    "scrolled": true
   },
   "outputs": [
    {
     "data": {
      "text/plain": [
       "{'frequency': array([1360.569193  , 1368.73260816, 1376.89602332, 1385.05943847,\n",
       "        1393.22285363, 1401.38626879, 1409.54968395, 1417.71309911,\n",
       "        1425.87651426, 1434.03992942, 1442.20334458, 1450.36675974,\n",
       "        1458.5301749 , 1466.69359005, 1474.85700521, 1483.02042037,\n",
       "        1491.18383553, 1499.34725069, 1507.51066584, 1515.674081  ,\n",
       "        1523.83749616, 1532.00091132, 1540.16432648, 1548.32774163,\n",
       "        1556.49115679, 1564.65457195, 1572.81798711, 1580.98140227,\n",
       "        1589.14481742, 1597.30823258, 1605.47164774, 1613.6350629 ,\n",
       "        1621.79847806, 1629.96189321, 1638.12530837, 1646.28872353,\n",
       "        1654.45213869, 1662.61555385, 1670.778969  , 1678.94238416,\n",
       "        1687.10579932, 1695.26921448, 1703.43262964, 1711.59604479,\n",
       "        1719.75945995, 1727.92287511, 1736.08629027, 1744.24970543,\n",
       "        1752.41312058, 1760.57653574, 1768.7399509 , 1776.90336606,\n",
       "        1785.06678122, 1793.23019637, 1801.39361153, 1809.55702669,\n",
       "        1817.72044185, 1825.88385701, 1834.04727216, 1842.21068732,\n",
       "        1850.37410248, 1858.53751764, 1866.7009328 , 1874.86434795,\n",
       "        1883.02776311, 1891.19117827, 1899.35459343, 1907.51800859,\n",
       "        1915.68142374, 1923.8448389 , 1932.00825406, 1940.17166922,\n",
       "        1948.33508438, 1956.49849953, 1964.66191469, 1972.82532985,\n",
       "        1980.98874501, 1989.15216017, 1997.31557532, 2005.47899048,\n",
       "        2013.64240564, 2021.8058208 , 2029.96923596, 2038.13265111,\n",
       "        2046.29606627, 2054.45948143, 2062.62289659, 2070.78631175,\n",
       "        2078.9497269 , 2087.11314206, 2095.27655722, 2103.43997238,\n",
       "        2111.60338754, 2119.76680269, 2127.93021785, 2136.09363301,\n",
       "        2144.25704817, 2152.42046333, 2160.58387848, 2168.74729364]),\n",
       " 'real_oscillator_strength': array([0.99998619, 0.99998635, 0.99998651, 0.99998667, 0.99998682,\n",
       "        0.99998697, 0.99998711, 0.99998726, 0.9999874 , 0.99998753,\n",
       "        0.99998766, 0.99998779, 0.99998792, 0.99998805, 0.99998817,\n",
       "        0.99998829, 0.99998841, 0.99998852, 0.99998863, 0.99998875,\n",
       "        0.99998885, 0.99998896, 0.99998906, 0.99998917, 0.99998927,\n",
       "        0.99998937, 0.99998946, 0.99998956, 0.99998965, 0.99998974,\n",
       "        0.99998983, 0.99998992, 0.99999001, 0.9999901 , 0.99999018,\n",
       "        0.99999026, 0.99999034, 0.99999042, 0.9999905 , 0.99999058,\n",
       "        0.99999066, 0.99999073, 0.9999908 , 0.99999088, 0.99999095,\n",
       "        0.99999102, 0.99999109, 0.99999116, 0.99999122, 0.99999129,\n",
       "        0.99999136, 0.99999142, 0.99999148, 0.99999154, 0.99999161,\n",
       "        0.99999167, 0.99999173, 0.99999179, 0.99999184, 0.9999919 ,\n",
       "        0.99999196, 0.99999201, 0.99999207, 0.99999212, 0.99999217,\n",
       "        0.99999223, 0.99999228, 0.99999233, 0.99999238, 0.99999243,\n",
       "        0.99999248, 0.99999253, 0.99999258, 0.99999262, 0.99999267,\n",
       "        0.99999272, 0.99999276, 0.99999281, 0.99999285, 0.9999929 ,\n",
       "        0.99999294, 0.99999298, 0.99999302, 0.99999307, 0.99999311,\n",
       "        0.99999315, 0.99999319, 0.99999323, 0.99999327, 0.99999331,\n",
       "        0.99999335, 0.99999338, 0.99999342, 0.99999346, 0.9999935 ,\n",
       "        0.99999353, 0.99999357, 0.9999936 , 0.99999364, 0.99999367]),\n",
       " 'imag_oscillator_strength': array([1.79915712e-07, 1.75691253e-07, 1.71613850e-07, 1.67676757e-07,\n",
       "        1.63873608e-07, 1.60198397e-07, 1.56645448e-07, 1.53209398e-07,\n",
       "        1.49885175e-07, 1.46667978e-07, 1.43553261e-07, 1.40536719e-07,\n",
       "        1.37614268e-07, 1.34782035e-07, 1.32036344e-07, 1.29373707e-07,\n",
       "        1.26790805e-07, 1.24284488e-07, 1.21851757e-07, 1.19489759e-07,\n",
       "        1.17195779e-07, 1.14967230e-07, 1.12801646e-07, 1.10696679e-07,\n",
       "        1.08650087e-07, 1.06659731e-07, 1.04723570e-07, 1.02839653e-07,\n",
       "        1.01006119e-07, 9.92211852e-08, 9.74831504e-08, 9.57903857e-08,\n",
       "        9.41413322e-08, 9.25344980e-08, 9.09684541e-08, 8.94418313e-08,\n",
       "        8.79533177e-08, 8.65016553e-08, 8.50856376e-08, 8.37041071e-08,\n",
       "        8.23559530e-08, 8.10401087e-08, 7.97555500e-08, 7.85012928e-08,\n",
       "        7.72763917e-08, 7.60799376e-08, 7.49110563e-08, 7.37689072e-08,\n",
       "        7.26526812e-08, 7.15615998e-08, 7.04949134e-08, 6.94519000e-08,\n",
       "        6.84318645e-08, 6.74341366e-08, 6.64580708e-08, 6.55030443e-08,\n",
       "        6.45684569e-08, 6.36537295e-08, 6.27583032e-08, 6.18816390e-08,\n",
       "        6.10232162e-08, 6.01825323e-08, 5.93591018e-08, 5.85524560e-08,\n",
       "        5.77621415e-08, 5.69877206e-08, 5.62287700e-08, 5.54848802e-08,\n",
       "        5.47556555e-08, 5.40407129e-08, 5.33396818e-08, 5.26522036e-08,\n",
       "        5.19779312e-08, 5.13165286e-08, 5.06676703e-08, 5.00310410e-08,\n",
       "        4.94063355e-08, 4.87932577e-08, 4.81915208e-08, 4.76008470e-08,\n",
       "        4.70209665e-08, 4.64516182e-08, 4.58925483e-08, 4.53435111e-08,\n",
       "        4.48042678e-08, 4.42745870e-08, 4.37542439e-08, 4.32430201e-08,\n",
       "        4.27407040e-08, 4.22470898e-08, 4.17619775e-08, 4.12851731e-08,\n",
       "        4.08164880e-08, 4.03557388e-08, 3.99027474e-08, 3.94573406e-08,\n",
       "        3.90193500e-08, 3.85886119e-08, 3.81649670e-08, 3.77482605e-08]),\n",
       " 'real_oscillator_strength_kkt': array([1.00000024, 1.0000002 , 1.00000014, 1.00000012, 1.0000001 ,\n",
       "        1.00000009, 1.00000008, 1.00000007, 1.00000006, 1.00000005,\n",
       "        1.00000004, 1.00000004, 1.00000003, 1.00000003, 1.00000002,\n",
       "        1.00000002, 1.00000002, 1.00000001, 1.00000001, 1.00000001,\n",
       "        1.        , 1.        , 1.        , 1.        , 1.        ,\n",
       "        0.99999999, 0.99999999, 0.99999999, 0.99999999, 0.99999999,\n",
       "        0.99999999, 0.99999998, 0.99999998, 0.99999998, 0.99999998,\n",
       "        0.99999998, 0.99999998, 0.99999998, 0.99999998, 0.99999998,\n",
       "        0.99999998, 0.99999997, 0.99999997, 0.99999997, 0.99999997,\n",
       "        0.99999997, 0.99999997, 0.99999997, 0.99999997, 0.99999997,\n",
       "        0.99999997, 0.99999997, 0.99999997, 0.99999997, 0.99999997,\n",
       "        0.99999997, 0.99999997, 0.99999997, 0.99999997, 0.99999997,\n",
       "        0.99999996, 0.99999996, 0.99999996, 0.99999996, 0.99999996,\n",
       "        0.99999996, 0.99999996, 0.99999996, 0.99999996, 0.99999996,\n",
       "        0.99999996, 0.99999996, 0.99999996, 0.99999996, 0.99999996,\n",
       "        0.99999996, 0.99999996, 0.99999996, 0.99999996, 0.99999996,\n",
       "        0.99999996, 0.99999996, 0.99999996, 0.99999996, 0.99999995,\n",
       "        0.99999995, 0.99999995, 0.99999995, 0.99999995, 0.99999995,\n",
       "        0.99999995, 0.99999995, 0.99999995, 0.99999995, 0.99999994,\n",
       "        0.99999994, 0.99999994, 0.99999994, 0.99999992, 0.99999992])}"
      ]
     },
     "execution_count": 24,
     "metadata": {},
     "output_type": "execute_result"
    }
   ],
   "source": [
    "result_4 = calculation4.parse_output()\n",
    "result_4"
   ]
  },
  {
   "cell_type": "code",
   "execution_count": 25,
   "id": "ad2318e5",
   "metadata": {},
   "outputs": [
    {
     "data": {
      "text/plain": [
       "True"
      ]
     },
     "execution_count": 25,
     "metadata": {},
     "output_type": "execute_result"
    }
   ],
   "source": [
    "result_4['imag_oscillator_strength'].all() == result_3['imag_oscillator_strength'].all()"
   ]
  },
  {
   "cell_type": "markdown",
   "id": "845f2778",
   "metadata": {},
   "source": [
    "### Error:"
   ]
  },
  {
   "cell_type": "code",
   "execution_count": 26,
   "id": "2203e89a",
   "metadata": {},
   "outputs": [],
   "source": [
    "# unit cell lattice of the material\n",
    "lattice = [[0.5, 0.0, 0.0], [0.0, 0.5, 0.0], [0.0, 0.0, 0.5]]\n",
    "\n",
    "# Atoms inside the unit cell: every atom own dictionary with species name and position\n",
    "atoms = [{'species': 'Li', 'position': [0, 0, 0]},\n",
    "         {'species': 'F', 'position': [0.5, 0.5, 0.5]}]\n",
    "\n",
    "# Structure object: pass atoms, lattice, species_path and optional kwargs as dictionary\n",
    "structure = ExcitingStructure(atoms, lattice, './',\n",
    "                              structure_properties={'autormt': True},\n",
    "                              crystal_properties={'scale': 7.608})\n",
    "\n",
    "# Groundstate Object with groundstate attributes\n",
    "groundstate = ExcitingGroundStateInput(ngridk=[4, 4, 4], rgkmax=5.0, gmaxvr=10, nempty=5, do='keks',\n",
    "                                       xctype='GGA_PBE_SOL', lmaxmat=12, lmaxvr=12, lmaxapw=12, epschg=0.1,\n",
    "                                       epsengy=0.1, epspot=0.1)\n",
    "\n",
    "# define slurm run properties like timeout, partition, number of mpi nodes, ...\n",
    "slurm_directives = slurm.set_slurm_directives(job_name='test5',\n",
    "                                                  time=[0, 0, 5, 0],\n",
    "                                                  partition='debug',\n",
    "                                                  exclusive=True,\n",
    "                                                  nodes=1,\n",
    "                                                  ntasks_per_node=4,\n",
    "                                                  cpus_per_task=4,\n",
    "                                                  hint='nomultithread')\n",
    "\n",
    "# Exciting calculation: pass name, run directory, structure, groundstate, slurm_commands\n",
    "calculation5 = ExcitingSlurmCalculation('test5', 'calculation5', structure,\n",
    "                                        '/mnt/beegfs2018/scratch/peschelf/code/exciting/species/', groundstate,\n",
    "                                        slurm_directives=slurm_directives)"
   ]
  },
  {
   "cell_type": "code",
   "execution_count": 27,
   "id": "a5213e2a",
   "metadata": {},
   "outputs": [
    {
     "name": "stdout",
     "output_type": "stream",
     "text": [
      "Put calculation into queue, JOBID=8550\n",
      "StdOut: [\" Parser ERROR: '\\n\", ' keks                                                                           \\n', \"  ' is not valid selection for do \\n\", \" Parser ERROR: '\\n\", ' keks                                                                           \\n', \"  ' is not valid selection for do \\n\", \" Parser ERROR: '\\n\", ' keks                                                                           \\n', \"  ' is not valid selection for do \\n\", \" Parser ERROR: '\\n\", ' keks                                                                           \\n', \"  ' is not valid selection for do \\n\"]\n",
      "StdErr: []\n",
      "Return Code: 0\n",
      "Process time: 31.15810513496399\n",
      "Success: True\n"
     ]
    }
   ],
   "source": [
    "calculation5.write_inputs()\n",
    "run_result = calculation5.run()\n",
    "print('StdOut:', run_result.stdout)\n",
    "print('StdErr:', run_result.stderr)\n",
    "print('Return Code:', run_result.return_code)\n",
    "print('Process time:', run_result.process_time)\n",
    "print('Success:', run_result.success)"
   ]
  },
  {
   "cell_type": "code",
   "execution_count": null,
   "id": "ef4f60b4",
   "metadata": {},
   "outputs": [],
   "source": []
  }
 ],
 "metadata": {
  "kernelspec": {
   "display_name": "exworkflow",
   "language": "python",
   "name": "exworkflow"
  },
  "language_info": {
   "codemirror_mode": {
    "name": "ipython",
    "version": 3
   },
   "file_extension": ".py",
   "mimetype": "text/x-python",
   "name": "python",
   "nbconvert_exporter": "python",
   "pygments_lexer": "ipython3",
   "version": "3.10.0"
  }
 },
 "nbformat": 4,
 "nbformat_minor": 5
}
